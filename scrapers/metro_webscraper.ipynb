{
  "nbformat": 4,
  "nbformat_minor": 0,
  "metadata": {
    "colab": {
      "provenance": [],
      "collapsed_sections": [
        "t7mca1Xle45b"
      ],
      "authorship_tag": "ABX9TyO8g/5S8cWDvjOfO1Rt7bWx",
      "include_colab_link": true
    },
    "kernelspec": {
      "name": "python3",
      "display_name": "Python 3"
    },
    "language_info": {
      "name": "python"
    }
  },
  "cells": [
    {
      "cell_type": "markdown",
      "metadata": {
        "id": "view-in-github",
        "colab_type": "text"
      },
      "source": [
        "<a href=\"https://colab.research.google.com/github/LudwigBitHoven/MillionAgents_testTask/blob/main/scrapers/metro_webscraper.ipynb\" target=\"_parent\"><img src=\"https://colab.research.google.com/assets/colab-badge.svg\" alt=\"Open In Colab\"/></a>"
      ]
    },
    {
      "cell_type": "markdown",
      "source": [
        "# Установим selenium"
      ],
      "metadata": {
        "id": "7nwgMAlTddqG"
      }
    },
    {
      "cell_type": "code",
      "source": [
        "!pip install selenium"
      ],
      "metadata": {
        "colab": {
          "base_uri": "https://localhost:8080/"
        },
        "id": "-gnPsADuD0Hq",
        "outputId": "7a27616d-ea4b-4a91-ff6f-d45dccd54fb5"
      },
      "execution_count": null,
      "outputs": [
        {
          "output_type": "stream",
          "name": "stdout",
          "text": [
            "Collecting selenium\n",
            "  Downloading selenium-4.20.0-py3-none-any.whl (9.5 MB)\n",
            "\u001b[2K     \u001b[90m━━━━━━━━━━━━━━━━━━━━━━━━━━━━━━━━━━━━━━━━\u001b[0m \u001b[32m9.5/9.5 MB\u001b[0m \u001b[31m16.2 MB/s\u001b[0m eta \u001b[36m0:00:00\u001b[0m\n",
            "\u001b[?25hRequirement already satisfied: urllib3[socks]<3,>=1.26 in /usr/local/lib/python3.10/dist-packages (from selenium) (2.0.7)\n",
            "Collecting trio~=0.17 (from selenium)\n",
            "  Downloading trio-0.25.0-py3-none-any.whl (467 kB)\n",
            "\u001b[2K     \u001b[90m━━━━━━━━━━━━━━━━━━━━━━━━━━━━━━━━━━━━━━━━\u001b[0m \u001b[32m467.2/467.2 kB\u001b[0m \u001b[31m29.2 MB/s\u001b[0m eta \u001b[36m0:00:00\u001b[0m\n",
            "\u001b[?25hCollecting trio-websocket~=0.9 (from selenium)\n",
            "  Downloading trio_websocket-0.11.1-py3-none-any.whl (17 kB)\n",
            "Requirement already satisfied: certifi>=2021.10.8 in /usr/local/lib/python3.10/dist-packages (from selenium) (2024.2.2)\n",
            "Requirement already satisfied: typing_extensions>=4.9.0 in /usr/local/lib/python3.10/dist-packages (from selenium) (4.11.0)\n",
            "Requirement already satisfied: attrs>=23.2.0 in /usr/local/lib/python3.10/dist-packages (from trio~=0.17->selenium) (23.2.0)\n",
            "Requirement already satisfied: sortedcontainers in /usr/local/lib/python3.10/dist-packages (from trio~=0.17->selenium) (2.4.0)\n",
            "Requirement already satisfied: idna in /usr/local/lib/python3.10/dist-packages (from trio~=0.17->selenium) (3.7)\n",
            "Collecting outcome (from trio~=0.17->selenium)\n",
            "  Downloading outcome-1.3.0.post0-py2.py3-none-any.whl (10 kB)\n",
            "Requirement already satisfied: sniffio>=1.3.0 in /usr/local/lib/python3.10/dist-packages (from trio~=0.17->selenium) (1.3.1)\n",
            "Requirement already satisfied: exceptiongroup in /usr/local/lib/python3.10/dist-packages (from trio~=0.17->selenium) (1.2.1)\n",
            "Collecting wsproto>=0.14 (from trio-websocket~=0.9->selenium)\n",
            "  Downloading wsproto-1.2.0-py3-none-any.whl (24 kB)\n",
            "Requirement already satisfied: pysocks!=1.5.7,<2.0,>=1.5.6 in /usr/local/lib/python3.10/dist-packages (from urllib3[socks]<3,>=1.26->selenium) (1.7.1)\n",
            "Collecting h11<1,>=0.9.0 (from wsproto>=0.14->trio-websocket~=0.9->selenium)\n",
            "  Downloading h11-0.14.0-py3-none-any.whl (58 kB)\n",
            "\u001b[2K     \u001b[90m━━━━━━━━━━━━━━━━━━━━━━━━━━━━━━━━━━━━━━━━\u001b[0m \u001b[32m58.3/58.3 kB\u001b[0m \u001b[31m4.8 MB/s\u001b[0m eta \u001b[36m0:00:00\u001b[0m\n",
            "\u001b[?25hInstalling collected packages: outcome, h11, wsproto, trio, trio-websocket, selenium\n",
            "Successfully installed h11-0.14.0 outcome-1.3.0.post0 selenium-4.20.0 trio-0.25.0 trio-websocket-0.11.1 wsproto-1.2.0\n"
          ]
        }
      ]
    },
    {
      "cell_type": "markdown",
      "source": [
        "# Импортируем и настроим джентльменский набор для скрапинга"
      ],
      "metadata": {
        "id": "XOlRJIihdgBw"
      }
    },
    {
      "cell_type": "code",
      "execution_count": null,
      "metadata": {
        "id": "sLljP1B-DvpK"
      },
      "outputs": [],
      "source": [
        "from bs4 import BeautifulSoup\n",
        "from selenium import webdriver\n",
        "import time\n",
        "import json\n",
        "import pandas as pd\n",
        "import requests"
      ]
    },
    {
      "cell_type": "code",
      "source": [
        "from selenium import webdriver\n",
        "from selenium.webdriver.firefox.options import Options\n",
        "\n",
        "options = Options()\n",
        "# аргумент для работы с мобильной версией сайта\n",
        "# options.add_argument('--user-agent=Mozilla/5.0 (iPhone; CPU iPhone OS 10_3 like Mac OS X) AppleWebKit/602.1.50 (KHTML, like Gecko) CriOS/56.0.2924.75 Mobile/14E5239e Safari/602.1')\n",
        "options.add_argument(\"start-maximized\")\n",
        "options.add_argument(\"--headless\")\n",
        "driver = webdriver.Firefox(options=options)"
      ],
      "metadata": {
        "id": "9VTcSM-zD7Yr"
      },
      "execution_count": null,
      "outputs": []
    },
    {
      "cell_type": "markdown",
      "source": [
        "# Посмотрим что на странице"
      ],
      "metadata": {
        "id": "ajcpWWxAeMxs"
      }
    },
    {
      "cell_type": "markdown",
      "source": [
        "Страница товара не имеет бесконечного скролла и товары распределены по отдельным url-ам вида\n",
        "\n",
        "\n",
        "\n",
        "> \"https://online.metro-cc.ru/category/chaj-kofe-kakao/kofe?from=under_search&page=\"\n",
        "\n",
        "\n",
        "#### Можно захардкодить скрапируемые адреса с товарами следующим образом, меняя лишь параметр page:\n"
      ],
      "metadata": {
        "id": "VqSgO2o4eQVm"
      }
    },
    {
      "cell_type": "code",
      "source": [
        "pages = []\n",
        "for i in range(1, 17):\n",
        "  pages.append(f\"https://online.metro-cc.ru/category/chaj-kofe-kakao/kofe?from=under_search&page={i}\")\n",
        "pages"
      ],
      "metadata": {
        "colab": {
          "base_uri": "https://localhost:8080/"
        },
        "id": "y56gcHHjD9T-",
        "outputId": "f504a7f6-ebc6-4957-d4e8-5cef0db3ac9a"
      },
      "execution_count": null,
      "outputs": [
        {
          "output_type": "execute_result",
          "data": {
            "text/plain": [
              "['https://online.metro-cc.ru/category/chaj-kofe-kakao/kofe?from=under_search&page=1',\n",
              " 'https://online.metro-cc.ru/category/chaj-kofe-kakao/kofe?from=under_search&page=2',\n",
              " 'https://online.metro-cc.ru/category/chaj-kofe-kakao/kofe?from=under_search&page=3',\n",
              " 'https://online.metro-cc.ru/category/chaj-kofe-kakao/kofe?from=under_search&page=4',\n",
              " 'https://online.metro-cc.ru/category/chaj-kofe-kakao/kofe?from=under_search&page=5',\n",
              " 'https://online.metro-cc.ru/category/chaj-kofe-kakao/kofe?from=under_search&page=6',\n",
              " 'https://online.metro-cc.ru/category/chaj-kofe-kakao/kofe?from=under_search&page=7',\n",
              " 'https://online.metro-cc.ru/category/chaj-kofe-kakao/kofe?from=under_search&page=8',\n",
              " 'https://online.metro-cc.ru/category/chaj-kofe-kakao/kofe?from=under_search&page=9',\n",
              " 'https://online.metro-cc.ru/category/chaj-kofe-kakao/kofe?from=under_search&page=10',\n",
              " 'https://online.metro-cc.ru/category/chaj-kofe-kakao/kofe?from=under_search&page=11',\n",
              " 'https://online.metro-cc.ru/category/chaj-kofe-kakao/kofe?from=under_search&page=12',\n",
              " 'https://online.metro-cc.ru/category/chaj-kofe-kakao/kofe?from=under_search&page=13',\n",
              " 'https://online.metro-cc.ru/category/chaj-kofe-kakao/kofe?from=under_search&page=14',\n",
              " 'https://online.metro-cc.ru/category/chaj-kofe-kakao/kofe?from=under_search&page=15',\n",
              " 'https://online.metro-cc.ru/category/chaj-kofe-kakao/kofe?from=under_search&page=16']"
            ]
          },
          "metadata": {},
          "execution_count": 4
        }
      ]
    },
    {
      "cell_type": "markdown",
      "source": [
        "## А можно сделать лучше и спарсить количество страниц по указанному адресу категории товаров:"
      ],
      "metadata": {
        "id": "t7mca1Xle45b"
      }
    },
    {
      "cell_type": "code",
      "source": [
        "# категория \"кофе\"\n",
        "url = \"https://online.metro-cc.ru/category/chaj-kofe-kakao/kofe?from=under_search&page=1\"\n",
        "driver.get(url)\n",
        "driver.execute_script(\"window.scrollTo(0, document.body.scrollHeight);\")\n",
        "time.sleep(3)\n",
        "html = driver.page_source\n",
        "soup = BeautifulSoup(html)\n",
        "# получаем все связанное с пагинацией\n",
        "pagination = soup.find(\"ul\", class_=\"catalog-paginate v-pagination\")\n",
        "list(pagination)"
      ],
      "metadata": {
        "colab": {
          "base_uri": "https://localhost:8080/"
        },
        "id": "2GasuaH-eJWz",
        "outputId": "f3c6206c-0c02-4130-c270-dcf3f107abe2"
      },
      "execution_count": null,
      "outputs": [
        {
          "output_type": "execute_result",
          "data": {
            "text/plain": [
              "[<li data-v-46976e4c=\"\"><a aria-current=\"true\" class=\"v-pagination__item catalog-paginate__item nuxt-link-active v-pagination__item--active\" data-v-46976e4c=\"\" href=\"/category/chaj-kofe-kakao/kofe?from=under_search\">1</a></li>,\n",
              " <li data-v-46976e4c=\"\"><a class=\"v-pagination__item catalog-paginate__item nuxt-link-active\" data-v-46976e4c=\"\" href=\"/category/chaj-kofe-kakao/kofe?from=under_search&amp;page=2\">2</a></li>,\n",
              " <li data-v-46976e4c=\"\"><a class=\"v-pagination__item catalog-paginate__item nuxt-link-active\" data-v-46976e4c=\"\" href=\"/category/chaj-kofe-kakao/kofe?from=under_search&amp;page=3\">3</a></li>,\n",
              " <li data-v-46976e4c=\"\"><span class=\"v-pagination__more catalog-paginate__item disabled dots\" data-v-46976e4c=\"\">...</span></li>,\n",
              " <li data-v-46976e4c=\"\"><a class=\"v-pagination__item catalog-paginate__item nuxt-link-active\" data-v-46976e4c=\"\" href=\"/category/chaj-kofe-kakao/kofe?from=under_search&amp;page=15\">15</a></li>,\n",
              " <li data-v-46976e4c=\"\"><a class=\"v-pagination__item catalog-paginate__item nuxt-link-active\" data-v-46976e4c=\"\" href=\"/category/chaj-kofe-kakao/kofe?from=under_search&amp;page=16\">16</a></li>,\n",
              " <li data-v-46976e4c=\"\"><a class=\"v-pagination__item catalog-paginate__item nuxt-link-active\" data-v-46976e4c=\"\" href=\"/category/chaj-kofe-kakao/kofe?from=under_search&amp;page=17\">17</a></li>,\n",
              " <li data-v-46976e4c=\"\"><a class=\"v-pagination__navigation catalog-paginate__item nuxt-link-active\" data-v-46976e4c=\"\" href=\"/category/chaj-kofe-kakao/kofe?from=under_search&amp;page=2\"><svg class=\"icon sprite-icons catalog-paginate__arrow\" data-v-46976e4c=\"\" xmlns=\"http://www.w3.org/2000/svg\"><use data-v-46976e4c=\"\" href=\"/_nuxt/20acdfc9556ad3617c01bff96692ae51.svg#i-arrow-right\" xlink:href=\"/_nuxt/20acdfc9556ad3617c01bff96692ae51.svg#i-arrow-right\"></use></svg></a></li>]"
            ]
          },
          "metadata": {},
          "execution_count": 14
        }
      ]
    },
    {
      "cell_type": "code",
      "source": [
        "list(pagination)[-2] # кнопка, ведущая на самую последнюю страницу в категории"
      ],
      "metadata": {
        "colab": {
          "base_uri": "https://localhost:8080/"
        },
        "id": "4-WIrp6lhVnH",
        "outputId": "62776aac-f250-4235-d47d-2162a8762793"
      },
      "execution_count": null,
      "outputs": [
        {
          "output_type": "execute_result",
          "data": {
            "text/plain": [
              "<li data-v-46976e4c=\"\"><a class=\"v-pagination__item catalog-paginate__item nuxt-link-active\" data-v-46976e4c=\"\" href=\"/category/chaj-kofe-kakao/kofe?from=under_search&amp;page=17\">17</a></li>"
            ]
          },
          "metadata": {},
          "execution_count": 15
        }
      ]
    },
    {
      "cell_type": "code",
      "source": [
        "last_page = int(list(pagination)[-2].text)\n",
        "last_page # индекс последней страницы из имени кнопки"
      ],
      "metadata": {
        "colab": {
          "base_uri": "https://localhost:8080/"
        },
        "id": "tq2mWsjnheUd",
        "outputId": "3ec2c25d-9c4a-4bc5-cdc3-0ba73438b6db"
      },
      "execution_count": null,
      "outputs": [
        {
          "output_type": "execute_result",
          "data": {
            "text/plain": [
              "17"
            ]
          },
          "metadata": {},
          "execution_count": 16
        }
      ]
    },
    {
      "cell_type": "markdown",
      "source": [
        "Теперь получим пул url адресов, с которых необходимо будет соскрапить товары"
      ],
      "metadata": {
        "id": "SdhuYayXijEW"
      }
    },
    {
      "cell_type": "code",
      "source": [
        "pages = []\n",
        "for i in range(1, last_page + 1):\n",
        "  pages.append(f\"https://online.metro-cc.ru/category/chaj-kofe-kakao/kofe?from=under_search&page={i}\")\n",
        "pages"
      ],
      "metadata": {
        "colab": {
          "base_uri": "https://localhost:8080/"
        },
        "id": "3KRilP4Ph37G",
        "outputId": "7a7bfdd5-5807-4f93-9959-918148688aab"
      },
      "execution_count": null,
      "outputs": [
        {
          "output_type": "execute_result",
          "data": {
            "text/plain": [
              "['https://online.metro-cc.ru/category/chaj-kofe-kakao/kofe?from=under_search&page=1',\n",
              " 'https://online.metro-cc.ru/category/chaj-kofe-kakao/kofe?from=under_search&page=2',\n",
              " 'https://online.metro-cc.ru/category/chaj-kofe-kakao/kofe?from=under_search&page=3',\n",
              " 'https://online.metro-cc.ru/category/chaj-kofe-kakao/kofe?from=under_search&page=4',\n",
              " 'https://online.metro-cc.ru/category/chaj-kofe-kakao/kofe?from=under_search&page=5',\n",
              " 'https://online.metro-cc.ru/category/chaj-kofe-kakao/kofe?from=under_search&page=6',\n",
              " 'https://online.metro-cc.ru/category/chaj-kofe-kakao/kofe?from=under_search&page=7',\n",
              " 'https://online.metro-cc.ru/category/chaj-kofe-kakao/kofe?from=under_search&page=8',\n",
              " 'https://online.metro-cc.ru/category/chaj-kofe-kakao/kofe?from=under_search&page=9',\n",
              " 'https://online.metro-cc.ru/category/chaj-kofe-kakao/kofe?from=under_search&page=10',\n",
              " 'https://online.metro-cc.ru/category/chaj-kofe-kakao/kofe?from=under_search&page=11',\n",
              " 'https://online.metro-cc.ru/category/chaj-kofe-kakao/kofe?from=under_search&page=12',\n",
              " 'https://online.metro-cc.ru/category/chaj-kofe-kakao/kofe?from=under_search&page=13',\n",
              " 'https://online.metro-cc.ru/category/chaj-kofe-kakao/kofe?from=under_search&page=14',\n",
              " 'https://online.metro-cc.ru/category/chaj-kofe-kakao/kofe?from=under_search&page=15',\n",
              " 'https://online.metro-cc.ru/category/chaj-kofe-kakao/kofe?from=under_search&page=16',\n",
              " 'https://online.metro-cc.ru/category/chaj-kofe-kakao/kofe?from=under_search&page=17']"
            ]
          },
          "metadata": {},
          "execution_count": 428
        }
      ]
    },
    {
      "cell_type": "markdown",
      "source": [
        "## Попробуем вытянуть данные о товаре со страницы"
      ],
      "metadata": {
        "id": "Lbus9px_k_st"
      }
    },
    {
      "cell_type": "markdown",
      "source": [
        "### Соскрапим все простое:"
      ],
      "metadata": {
        "id": "B9hg9-EHlF5A"
      }
    },
    {
      "cell_type": "code",
      "source": [
        "driver.get(\"https://online.metro-cc.ru/category/chaj-kofe-kakao/kofe?from=under_search&page=10\") # возьмем страницу\n",
        "driver.execute_script(\"window.scrollTo(0, document.body.scrollHeight);\")\n",
        "time.sleep(3)\n",
        "html = driver.page_source\n",
        "soup = BeautifulSoup(html)"
      ],
      "metadata": {
        "id": "7-p6pteNFKmJ"
      },
      "execution_count": null,
      "outputs": []
    },
    {
      "cell_type": "markdown",
      "source": [
        "Выделяем название товара"
      ],
      "metadata": {
        "id": "94SRIfPSlmKV"
      }
    },
    {
      "cell_type": "code",
      "source": [
        "products = soup.findAll(\"div\", class_=\"product-card-photo catalog-2-level-product-card__photo style--catalog-2-level-product-card\")\n",
        "products[0].findAll(\"a\")[0][\"title\"] # выделяем название товара"
      ],
      "metadata": {
        "colab": {
          "base_uri": "https://localhost:8080/",
          "height": 35
        },
        "id": "asKmJcNGcjvX",
        "outputId": "b6395658-50e6-415f-a051-53ce5de12486"
      },
      "execution_count": null,
      "outputs": [
        {
          "output_type": "execute_result",
          "data": {
            "text/plain": [
              "'Кофе Жокей классический 3в1 растворимый (12г x 50шт), 600г'"
            ],
            "application/vnd.google.colaboratory.intrinsic+json": {
              "type": "string"
            }
          },
          "metadata": {},
          "execution_count": 486
        }
      ]
    },
    {
      "cell_type": "markdown",
      "source": [
        "Выделяем бренд в отдельном запросе"
      ],
      "metadata": {
        "id": "-ZpqFKUB_pDB"
      }
    },
    {
      "cell_type": "code",
      "source": [
        "products[0].findAll(\"a\")[0][\"href\"] # ссылка на товар без базового url\n",
        "url = \"https://online.metro-cc.ru\" + products[0].findAll(\"a\")[0][\"href\"]\n",
        "subsoup = BeautifulSoup(requests.get(url).text, 'html.parser')\n",
        "brand = subsoup.findAll(\"a\", class_=\"product-attributes__list-item-link reset-link active-blue-text\")[-3]\n",
        "brand = brand.text.replace(\"\\n\", \"\") # удаляем переносы строки\n",
        "brand = brand.replace(\" \", \"\") # удаляем пробелы\n",
        "brand"
      ],
      "metadata": {
        "colab": {
          "base_uri": "https://localhost:8080/",
          "height": 35
        },
        "id": "uGEJgzCZhCAf",
        "outputId": "af7408da-529b-404d-c97f-16b430033ca4"
      },
      "execution_count": null,
      "outputs": [
        {
          "output_type": "execute_result",
          "data": {
            "text/plain": [
              "'ЖОКЕЙ'"
            ],
            "application/vnd.google.colaboratory.intrinsic+json": {
              "type": "string"
            }
          },
          "metadata": {},
          "execution_count": 485
        }
      ]
    },
    {
      "cell_type": "markdown",
      "source": [
        "Выделяем id товара"
      ],
      "metadata": {
        "id": "CngSTBduE2g7"
      }
    },
    {
      "cell_type": "code",
      "source": [
        "products = soup.findAll(\"div\", class_=\"catalog-2-level-product-card product-card subcategory-or-type__products-item with-prices-drop\")\n",
        "int(products[0][\"data-sku\"]) # id товара"
      ],
      "metadata": {
        "colab": {
          "base_uri": "https://localhost:8080/"
        },
        "id": "FpA0uJgDm8ov",
        "outputId": "b19fc6f7-39c2-4959-ec2c-115349f2c498"
      },
      "execution_count": null,
      "outputs": [
        {
          "output_type": "execute_result",
          "data": {
            "text/plain": [
              "234805"
            ]
          },
          "metadata": {},
          "execution_count": 484
        }
      ]
    },
    {
      "cell_type": "markdown",
      "source": [
        "Напишем функцию для определения бренда"
      ],
      "metadata": {
        "id": "qAbCedN0EPnY"
      }
    },
    {
      "cell_type": "code",
      "source": [
        "def get_brand(href):\n",
        "  \"\"\"\n",
        "    Функция выполняет дополнительный запрос на страницу товара, чтобы\n",
        "    вытянуть название бренда\n",
        "  \"\"\"\n",
        "  try:\n",
        "    url = \"https://online.metro-cc.ru\" + href\n",
        "    subsoup = BeautifulSoup(requests.get(url, timeout=6).text, 'html.parser')\n",
        "    brand = subsoup.findAll(\"a\", class_=\"product-attributes__list-item-link reset-link active-blue-text\")[-3]\n",
        "    brand = brand.text.replace(\"\\n\", \"\")\n",
        "    brand = brand.replace(\" \", \"\")\n",
        "    return brand\n",
        "  except Exception: # хорошо бы исправить в дальнейшем\n",
        "    print(f\"Error occured at {url}\")\n",
        "    return \"\"\n",
        "\n",
        "get_brand(products[0].find(\"a\")[\"href\"]) # протестируем функцию скрапа бренда"
      ],
      "metadata": {
        "colab": {
          "base_uri": "https://localhost:8080/",
          "height": 35
        },
        "id": "l4nB-xG5kAS3",
        "outputId": "ef2ea040-fb60-4c71-8680-dc2c50c75451"
      },
      "execution_count": null,
      "outputs": [
        {
          "output_type": "execute_result",
          "data": {
            "text/plain": [
              "'MACCOFFEE'"
            ],
            "application/vnd.google.colaboratory.intrinsic+json": {
              "type": "string"
            }
          },
          "metadata": {},
          "execution_count": 463
        }
      ]
    },
    {
      "cell_type": "markdown",
      "source": [
        "### Цены на сайте можно разделить на две категории: цены в онлайн магазине и цены в торговом центре. Один товар может иметь один ценник в онлайн магазине. В свою очередь ценник может иметь два значения (акционная цена и обычная цена), или одно (обычная цена). Ценник в торговом центре может иметь неограниченное количество значений для каждой из действующих в центре акций. Например один товар может проходить по большому количеству акций и иметь разные цены в зависимости от приобретаемого количества этого товара:\n",
        "\n",
        "\n",
        "*   699р ~~899р~~ - 1 шт\n",
        "*   1199р ~~1799р~~ - 2 шт\n",
        "*   1699р ~~1999р~~ - 3 шт и т.д."
      ],
      "metadata": {
        "id": "pGU98AaZAFSq"
      }
    },
    {
      "cell_type": "markdown",
      "source": [
        "### Также возможен вариант, когда форматы цен чередуются:\n",
        "\n",
        "\n",
        "*   699р ~~899р~~ - 1 шт\n",
        "*   1199р - 2 шт\n",
        "*   1699р - 3 шт и т.д."
      ],
      "metadata": {
        "id": "hxnckFCwDdSr"
      }
    },
    {
      "cell_type": "markdown",
      "source": [
        "### Напишем функцию, чтобы собирать цены, учитывая вышеописанные нюансы:"
      ],
      "metadata": {
        "id": "7P2ulVrfDxh6"
      }
    },
    {
      "cell_type": "code",
      "source": [
        "def get_prices_shop(product):\n",
        "  res = []\n",
        "  # ищем все значения в ценнике\n",
        "  temp = product.findAll(\"li\", class_=\"product-prices-lines__item\")\n",
        "  for i in temp:\n",
        "    offers = i.findAll(\"span\", class_=\"product-prices-lines__item-count nowrap\") # находим условия\n",
        "    prices = i.find(\"span\", class_=\"product-price__sum-rubles\") # находим цену по акции\n",
        "    for idx, price in enumerate(prices):\n",
        "      price = price.text.replace(\"\\xa0\", \"\")\n",
        "      offer = offers[idx - 1].text.strip()\n",
        "      res.append((int(price), offer))\n",
        "  return res\n",
        "\n",
        "def get_prices_online(product):\n",
        "  res = {\n",
        "    \"onlineDiscount\": 0, # онлайн заказ по скидке\n",
        "    \"onlineRegular\": 0, # онлайн заказ без скидки\n",
        "  }\n",
        "  # находим ценник\n",
        "  temp = product.find(\"div\", class_=\"product-unit-prices__trigger\")\n",
        "  temp = temp.findAll(\"span\", class_=\"product-price__sum-rubles\")\n",
        "  temp = [int(i.text.replace(\"\\xa0\", \"\")) for i in temp]\n",
        "  if len(temp) == 1:\n",
        "    # если товар не акционный, то заполняем только onlineRegular\n",
        "    res[\"onlineRegular\"] = temp[0]\n",
        "  else:\n",
        "    # если товар акционный, то заполняем поле onlineDiscount\n",
        "    res[\"onlineDiscount\"] = temp[0]\n",
        "    res[\"onlineRegular\"] = temp[1]\n",
        "  return res\n",
        "\n",
        "\n",
        "products = soup.findAll(\"div\", class_=\"catalog-2-level-product-card product-card subcategory-or-type__products-item with-prices-drop\")\n",
        "for i in products:\n",
        "  button_txt = i.find(\"span\", class_=\"simple-button__text\").text\n",
        "  if \"В корзину\" in button_txt or \"Только\" in button_txt: # проверка на наличие в магазине\n",
        "    print(get_prices_shop(i), get_prices_online(i))"
      ],
      "metadata": {
        "colab": {
          "base_uri": "https://localhost:8080/"
        },
        "id": "GBj7Kxf6KAiF",
        "outputId": "5f0d02ce-d636-4c21-b9c3-6dfd3c984e87"
      },
      "execution_count": null,
      "outputs": [
        {
          "output_type": "stream",
          "name": "stdout",
          "text": [
            "[(429, 'от 1 шт')] {'onlineDiscount': 449, 'onlineRegular': 529}\n",
            "[(289, 'от 1 шт')] {'onlineDiscount': 299, 'onlineRegular': 499}\n",
            "[(389, 'от 1 шт')] {'onlineDiscount': 419, 'onlineRegular': 469}\n",
            "[(389, 'от 1 шт')] {'onlineDiscount': 399, 'onlineRegular': 469}\n",
            "[(359, 'от 1 шт')] {'onlineDiscount': 399, 'onlineRegular': 449}\n",
            "[(229, 'от 1 шт')] {'onlineDiscount': 229, 'onlineRegular': 319}\n",
            "[(349, 'от 1 шт')] {'onlineDiscount': 349, 'onlineRegular': 419}\n",
            "[(149, 'от 1 шт')] {'onlineDiscount': 149, 'onlineRegular': 207}\n",
            "[(319, 'от 1 шт')] {'onlineDiscount': 349, 'onlineRegular': 389}\n",
            "[(349, 'от 1 шт')] {'onlineDiscount': 379, 'onlineRegular': 399}\n",
            "[(349, 'от 1 шт')] {'onlineDiscount': 349, 'onlineRegular': 359}\n",
            "[(329, 'от 1 шт')] {'onlineDiscount': 339, 'onlineRegular': 359}\n",
            "[(359, 'от 1 шт')] {'onlineDiscount': 0, 'onlineRegular': 359}\n",
            "[(349, 'от 1 шт')] {'onlineDiscount': 349, 'onlineRegular': 399}\n",
            "[(299, 'от 1 шт')] {'onlineDiscount': 299, 'onlineRegular': 369}\n",
            "[(299, 'от 1 шт')] {'onlineDiscount': 299, 'onlineRegular': 369}\n",
            "[(159, 'от 1 шт')] {'onlineDiscount': 159, 'onlineRegular': 216}\n",
            "[(299, 'от 1 шт')] {'onlineDiscount': 299, 'onlineRegular': 369}\n",
            "[(189, 'от 1 шт')] {'onlineDiscount': 189, 'onlineRegular': 276}\n",
            "[(209, 'от 1 шт')] {'onlineDiscount': 209, 'onlineRegular': 289}\n",
            "[(189, 'от 1 шт')] {'onlineDiscount': 189, 'onlineRegular': 236}\n",
            "[(229, 'от 1 шт')] {'onlineDiscount': 229, 'onlineRegular': 259}\n",
            "[(229, 'от 1 шт')] {'onlineDiscount': 229, 'onlineRegular': 293}\n",
            "[(359, 'от 1 шт')] {'onlineDiscount': 0, 'onlineRegular': 369}\n",
            "[(1499, 'от 1 шт')] {'onlineDiscount': 1499, 'onlineRegular': 1859}\n",
            "[(749, 'от 1 шт')] {'onlineDiscount': 0, 'onlineRegular': 799}\n",
            "[(1249, 'от 1 шт')] {'onlineDiscount': 1349, 'onlineRegular': 1539}\n",
            "[(649, 'от 1 шт')] {'onlineDiscount': 649, 'onlineRegular': 669}\n",
            "[(189, 'от 1 шт')] {'onlineDiscount': 189, 'onlineRegular': 263}\n",
            "[(389, 'от 1 шт'), (329, 'от 3 шт')] {'onlineDiscount': 299, 'onlineRegular': 419}\n"
          ]
        }
      ]
    },
    {
      "cell_type": "code",
      "source": [
        "products = soup.findAll(\"div\", class_=\"catalog-2-level-product-card product-card subcategory-or-type__products-item with-prices-drop\")\n",
        "tup = {\n",
        "          \"product_id\": int(products[0][\"data-sku\"]),\n",
        "          **get_prices_online(products[0]),\n",
        "          \"prices_shop\": get_prices_shop(products[0])\n",
        "      }\n",
        "temp = products[0].findAll(\"div\", class_=\"product-card-photo catalog-2-level-product-card__photo style--catalog-2-level-product-card\")\n",
        "tup[\"title\"] = temp[0].find(\"a\")[\"title\"] # название продукта\n",
        "tup[\"link\"] = temp[0].find(\"a\")[\"href\"] # ссылка на товар\n",
        "tup[\"brand\"] = get_brand(tup[\"link\"]) # бренд\n",
        "\n",
        "for line in tup:\n",
        "  print(line, tup[line])"
      ],
      "metadata": {
        "colab": {
          "base_uri": "https://localhost:8080/"
        },
        "id": "V0wQGDbRIF6Q",
        "outputId": "625aafb0-fc12-4e66-b287-e99148d1a46c"
      },
      "execution_count": null,
      "outputs": [
        {
          "output_type": "stream",
          "name": "stdout",
          "text": [
            "product_id 234805\n",
            "onlineDiscount 449\n",
            "onlineRegular 529\n",
            "prices_shop [(429, 'от 1 шт')]\n",
            "title Кофе Жокей классический 3в1 растворимый (12г x 50шт), 600г\n",
            "link /products/kofe-zhokey-klassicheskiy-3v1-rastvorimyy-12g-x-50sht-600g\n",
            "brand ЖОКЕЙ\n"
          ]
        }
      ]
    },
    {
      "cell_type": "markdown",
      "source": [
        "# Скрапинг"
      ],
      "metadata": {
        "id": "b1yo-kiDolCW"
      }
    },
    {
      "cell_type": "markdown",
      "source": [
        "Проверим для какого магазина собирается информация:"
      ],
      "metadata": {
        "id": "Ymyh4DzyEt0Y"
      }
    },
    {
      "cell_type": "code",
      "source": [
        "soup.find(\"address\", class_=\"header-address__receive-address header-address__receive-address--blured\").text.strip()"
      ],
      "metadata": {
        "colab": {
          "base_uri": "https://localhost:8080/",
          "height": 35
        },
        "id": "j_pbQ95lZRW3",
        "outputId": "3067cadc-623b-4efc-f990-58757c5b1e5a"
      },
      "execution_count": null,
      "outputs": [
        {
          "output_type": "execute_result",
          "data": {
            "text/plain": [
              "'Москва, Ул. Ленинградское шоссе, д. 71Г (м. Речной вокзал)'"
            ],
            "application/vnd.google.colaboratory.intrinsic+json": {
              "type": "string"
            }
          },
          "metadata": {},
          "execution_count": 503
        }
      ]
    },
    {
      "cell_type": "code",
      "source": [
        "data = {\"product_id\": [], \"title\": [], \"link\": [], \"onlineRegular\": [], \"onlineDiscount\": [], \"prices_shop\": [], \"brand\": []}\n",
        "\n",
        "cnt = 0\n",
        "for page in pages:\n",
        "  driver.get(page) # делаем запрос и получаем страницу\n",
        "  driver.execute_script(\"window.scrollTo(0, document.body.scrollHeight);\") # скроллим вниз для загрузки всех товаров\n",
        "  time.sleep(3) # ждем прогрузки\n",
        "  html = driver.page_source\n",
        "  soup = BeautifulSoup(html)\n",
        "  # составляем список товаров\n",
        "  products = soup.findAll(\"div\", class_=\"catalog-2-level-product-card product-card subcategory-or-type__products-item with-prices-drop\")\n",
        "  for product in products:\n",
        "    button_txt = product.find(\"span\", class_=\"simple-button__text\").text\n",
        "    if \"В корзину\" in button_txt or \"Только\" in button_txt: # проверка на наличие в магазине\n",
        "      time.sleep(1)\n",
        "      tup = {\n",
        "          \"product_id\": int(product[\"data-sku\"]),\n",
        "          **get_prices_online(product),\n",
        "          \"prices_shop\": get_prices_shop(product)\n",
        "      }\n",
        "      temp = product.findAll(\"div\", class_=\"product-card-photo catalog-2-level-product-card__photo style--catalog-2-level-product-card\")\n",
        "      tup[\"title\"] = temp[0].find(\"a\")[\"title\"] # название продукта\n",
        "      tup[\"link\"] = temp[0].find(\"a\")[\"href\"] # ссылка на товар\n",
        "      tup[\"brand\"] = get_brand(tup[\"link\"]) # бренд\n",
        "      for key in tup:\n",
        "        data[key].append(tup[key])\n",
        "        cnt += 1\n",
        "  print(f\"Page '{page}' scraped\")\n",
        "print(f\"Scraped all data, totally {cnt}\")"
      ],
      "metadata": {
        "colab": {
          "base_uri": "https://localhost:8080/"
        },
        "id": "NYtnVlB2LhGw",
        "outputId": "47befb0a-281b-4cfc-c215-b3ae80ca0eef"
      },
      "execution_count": 509,
      "outputs": [
        {
          "output_type": "stream",
          "name": "stdout",
          "text": [
            "https://online.metro-cc.ru/products/kofe-alta-roma-espresso-v-zernakh-1kg\n",
            "Page 'https://online.metro-cc.ru/category/chaj-kofe-kakao/kofe?from=under_search&page=1' scraped\n",
            "https://online.metro-cc.ru/products/molotyj-dallmayr-efiopiya-500g\n",
            "Page 'https://online.metro-cc.ru/category/chaj-kofe-kakao/kofe?from=under_search&page=2' scraped\n",
            "Page 'https://online.metro-cc.ru/category/chaj-kofe-kakao/kofe?from=under_search&page=3' scraped\n",
            "https://online.metro-cc.ru/products/ambassador-naturalnyj-zharenyj-platinum-1kg\n",
            "Page 'https://online.metro-cc.ru/category/chaj-kofe-kakao/kofe?from=under_search&page=4' scraped\n",
            "Page 'https://online.metro-cc.ru/category/chaj-kofe-kakao/kofe?from=under_search&page=5' scraped\n",
            "Page 'https://online.metro-cc.ru/category/chaj-kofe-kakao/kofe?from=under_search&page=6' scraped\n",
            "https://online.metro-cc.ru/products/v-zernah-carraro-primo-mattino-1-kg\n",
            "https://online.metro-cc.ru/products/nescafe-sublimirovannyj-gold-190g\n",
            "Page 'https://online.metro-cc.ru/category/chaj-kofe-kakao/kofe?from=under_search&page=7' scraped\n",
            "https://online.metro-cc.ru/products/egoiste-espresso-250g\n",
            "https://online.metro-cc.ru/products/100g-kofe-lebo-prints-lebo-molotyy-dturki\n",
            "Page 'https://online.metro-cc.ru/category/chaj-kofe-kakao/kofe?from=under_search&page=8' scraped\n",
            "https://online.metro-cc.ru/products/20shth16g-nap-kofeynyy-carte-noire-vanilla-latte-rastv-ports\n",
            "Page 'https://online.metro-cc.ru/category/chaj-kofe-kakao/kofe?from=under_search&page=9' scraped\n",
            "https://online.metro-cc.ru/products/150g-kofe-tchibo-gold-selection-rastvorimyy\n",
            "Page 'https://online.metro-cc.ru/category/chaj-kofe-kakao/kofe?from=under_search&page=10' scraped\n",
            "https://online.metro-cc.ru/products/rioba-kofe-v-kapsulah-dolce-gusto-grande-intenso-16sht-112g-h-3-sht\n",
            "Page 'https://online.metro-cc.ru/category/chaj-kofe-kakao/kofe?from=under_search&page=11' scraped\n",
            "https://online.metro-cc.ru/products/yubilejnyj-julius-meinl-250-g\n",
            "Page 'https://online.metro-cc.ru/category/chaj-kofe-kakao/kofe?from=under_search&page=12' scraped\n",
            "Page 'https://online.metro-cc.ru/category/chaj-kofe-kakao/kofe?from=under_search&page=13' scraped\n",
            "Page 'https://online.metro-cc.ru/category/chaj-kofe-kakao/kofe?from=under_search&page=14' scraped\n",
            "Page 'https://online.metro-cc.ru/category/chaj-kofe-kakao/kofe?from=under_search&page=15' scraped\n",
            "Page 'https://online.metro-cc.ru/category/chaj-kofe-kakao/kofe?from=under_search&page=16' scraped\n",
            "Page 'https://online.metro-cc.ru/category/chaj-kofe-kakao/kofe?from=under_search&page=17' scraped\n",
            "Scraped all data, totally 2751\n"
          ]
        }
      ]
    },
    {
      "cell_type": "markdown",
      "source": [
        "# Сохраняем датафрейм"
      ],
      "metadata": {
        "id": "cF1dhNpqpA4E"
      }
    },
    {
      "cell_type": "code",
      "source": [
        "df = pd.DataFrame.from_dict(data)\n",
        "df"
      ],
      "metadata": {
        "colab": {
          "base_uri": "https://localhost:8080/",
          "height": 424
        },
        "id": "_FA8v4XdNS3A",
        "outputId": "55f83ef2-c959-42bc-8d2b-f91871a3f5cd"
      },
      "execution_count": 511,
      "outputs": [
        {
          "output_type": "execute_result",
          "data": {
            "text/plain": [
              "     product_id                                              title  \\\n",
              "0        642122  Кофе Nescafe Gold растворимый сублимированный ...   \n",
              "1        122743  Кофе Nescafe Gold растворимый сублимированный ...   \n",
              "2        407889            Кофе Bushido Original растворимый, 100г   \n",
              "3        287768  RIOBA Кофе в зернах натуральный жареный 100% а...   \n",
              "4        580564  Кофе Egoiste Arabica Premium натуральный жарен...   \n",
              "..          ...                                                ...   \n",
              "388      117382  Кофе в капсулах L’or Espresso Ristretto для ко...   \n",
              "389      117387  Набор кофе в капсулах Coffesso для кофемашин N...   \n",
              "390      247918  Кофе Poetti Professional Aroma Vending зерново...   \n",
              "391      117381  Кофе в капсулах L’or Espresso Splendente для к...   \n",
              "392      117361  Кофе в капсулах L’or Espresso Lungo Profondo д...   \n",
              "\n",
              "                                                  link  onlineRegular  \\\n",
              "0    /products/nescafe-s-dobavleniem-naturalnogo-zh...           2399   \n",
              "1    /products/kofe-nescafe-gold-rastvorimiy-sublim...           2269   \n",
              "2      /products/bushido-sublimirovannyj-original-100g            899   \n",
              "3    /products/rioba-v-zernah-naturalnyj-zharenyj-1...           1529   \n",
              "4    /products/egoiste-v-zernah-naturalnyj-zharenyj...           2099   \n",
              "..                                                 ...            ...   \n",
              "388                  /products/52g-l-rsquoor-ristretto           3990   \n",
              "389                     /products/50h5g-coffesso-nabor           6594   \n",
              "390  /products/1kg-kofe-poetti-professional-aroma-v...           1279   \n",
              "391             /products/52g-l-rsquoor-espr-splendent           3990   \n",
              "392             /products/52g-l-rsquoor-lungo-profondo           3990   \n",
              "\n",
              "     onlineDiscount                       prices_shop     brand  \n",
              "0              1599                 [(1599, от 1 шт)]    NESCAF  \n",
              "1              1899                 [(1799, от 1 шт)]    NESCAF  \n",
              "2               649  [(589, от 1 шт), (535, от 6 шт)]   BUSHIDO  \n",
              "3              1199                 [(1199, от 1 шт)]     RIOBA  \n",
              "4              1499                 [(1599, от 1 шт)]   EGOISTE  \n",
              "..              ...                               ...       ...  \n",
              "388               0                 [(3190, от 1 уп)]      L'OR  \n",
              "389               0                 [(5214, от 1 уп)]  COFFESSO  \n",
              "390             999                  [(999, от 1 шт)]    POETTI  \n",
              "391               0                 [(3190, от 1 уп)]      L'OR  \n",
              "392               0                 [(3190, от 1 уп)]      L'OR  \n",
              "\n",
              "[393 rows x 7 columns]"
            ],
            "text/html": [
              "\n",
              "  <div id=\"df-43756195-b007-4c25-aa2f-70cbae42cfb5\" class=\"colab-df-container\">\n",
              "    <div>\n",
              "<style scoped>\n",
              "    .dataframe tbody tr th:only-of-type {\n",
              "        vertical-align: middle;\n",
              "    }\n",
              "\n",
              "    .dataframe tbody tr th {\n",
              "        vertical-align: top;\n",
              "    }\n",
              "\n",
              "    .dataframe thead th {\n",
              "        text-align: right;\n",
              "    }\n",
              "</style>\n",
              "<table border=\"1\" class=\"dataframe\">\n",
              "  <thead>\n",
              "    <tr style=\"text-align: right;\">\n",
              "      <th></th>\n",
              "      <th>product_id</th>\n",
              "      <th>title</th>\n",
              "      <th>link</th>\n",
              "      <th>onlineRegular</th>\n",
              "      <th>onlineDiscount</th>\n",
              "      <th>prices_shop</th>\n",
              "      <th>brand</th>\n",
              "    </tr>\n",
              "  </thead>\n",
              "  <tbody>\n",
              "    <tr>\n",
              "      <th>0</th>\n",
              "      <td>642122</td>\n",
              "      <td>Кофе Nescafe Gold растворимый сублимированный ...</td>\n",
              "      <td>/products/nescafe-s-dobavleniem-naturalnogo-zh...</td>\n",
              "      <td>2399</td>\n",
              "      <td>1599</td>\n",
              "      <td>[(1599, от 1 шт)]</td>\n",
              "      <td>NESCAF</td>\n",
              "    </tr>\n",
              "    <tr>\n",
              "      <th>1</th>\n",
              "      <td>122743</td>\n",
              "      <td>Кофе Nescafe Gold растворимый сублимированный ...</td>\n",
              "      <td>/products/kofe-nescafe-gold-rastvorimiy-sublim...</td>\n",
              "      <td>2269</td>\n",
              "      <td>1899</td>\n",
              "      <td>[(1799, от 1 шт)]</td>\n",
              "      <td>NESCAF</td>\n",
              "    </tr>\n",
              "    <tr>\n",
              "      <th>2</th>\n",
              "      <td>407889</td>\n",
              "      <td>Кофе Bushido Original растворимый, 100г</td>\n",
              "      <td>/products/bushido-sublimirovannyj-original-100g</td>\n",
              "      <td>899</td>\n",
              "      <td>649</td>\n",
              "      <td>[(589, от 1 шт), (535, от 6 шт)]</td>\n",
              "      <td>BUSHIDO</td>\n",
              "    </tr>\n",
              "    <tr>\n",
              "      <th>3</th>\n",
              "      <td>287768</td>\n",
              "      <td>RIOBA Кофе в зернах натуральный жареный 100% а...</td>\n",
              "      <td>/products/rioba-v-zernah-naturalnyj-zharenyj-1...</td>\n",
              "      <td>1529</td>\n",
              "      <td>1199</td>\n",
              "      <td>[(1199, от 1 шт)]</td>\n",
              "      <td>RIOBA</td>\n",
              "    </tr>\n",
              "    <tr>\n",
              "      <th>4</th>\n",
              "      <td>580564</td>\n",
              "      <td>Кофе Egoiste Arabica Premium натуральный жарен...</td>\n",
              "      <td>/products/egoiste-v-zernah-naturalnyj-zharenyj...</td>\n",
              "      <td>2099</td>\n",
              "      <td>1499</td>\n",
              "      <td>[(1599, от 1 шт)]</td>\n",
              "      <td>EGOISTE</td>\n",
              "    </tr>\n",
              "    <tr>\n",
              "      <th>...</th>\n",
              "      <td>...</td>\n",
              "      <td>...</td>\n",
              "      <td>...</td>\n",
              "      <td>...</td>\n",
              "      <td>...</td>\n",
              "      <td>...</td>\n",
              "      <td>...</td>\n",
              "    </tr>\n",
              "    <tr>\n",
              "      <th>388</th>\n",
              "      <td>117382</td>\n",
              "      <td>Кофе в капсулах L’or Espresso Ristretto для ко...</td>\n",
              "      <td>/products/52g-l-rsquoor-ristretto</td>\n",
              "      <td>3990</td>\n",
              "      <td>0</td>\n",
              "      <td>[(3190, от 1 уп)]</td>\n",
              "      <td>L'OR</td>\n",
              "    </tr>\n",
              "    <tr>\n",
              "      <th>389</th>\n",
              "      <td>117387</td>\n",
              "      <td>Набор кофе в капсулах Coffesso для кофемашин N...</td>\n",
              "      <td>/products/50h5g-coffesso-nabor</td>\n",
              "      <td>6594</td>\n",
              "      <td>0</td>\n",
              "      <td>[(5214, от 1 уп)]</td>\n",
              "      <td>COFFESSO</td>\n",
              "    </tr>\n",
              "    <tr>\n",
              "      <th>390</th>\n",
              "      <td>247918</td>\n",
              "      <td>Кофе Poetti Professional Aroma Vending зерново...</td>\n",
              "      <td>/products/1kg-kofe-poetti-professional-aroma-v...</td>\n",
              "      <td>1279</td>\n",
              "      <td>999</td>\n",
              "      <td>[(999, от 1 шт)]</td>\n",
              "      <td>POETTI</td>\n",
              "    </tr>\n",
              "    <tr>\n",
              "      <th>391</th>\n",
              "      <td>117381</td>\n",
              "      <td>Кофе в капсулах L’or Espresso Splendente для к...</td>\n",
              "      <td>/products/52g-l-rsquoor-espr-splendent</td>\n",
              "      <td>3990</td>\n",
              "      <td>0</td>\n",
              "      <td>[(3190, от 1 уп)]</td>\n",
              "      <td>L'OR</td>\n",
              "    </tr>\n",
              "    <tr>\n",
              "      <th>392</th>\n",
              "      <td>117361</td>\n",
              "      <td>Кофе в капсулах L’or Espresso Lungo Profondo д...</td>\n",
              "      <td>/products/52g-l-rsquoor-lungo-profondo</td>\n",
              "      <td>3990</td>\n",
              "      <td>0</td>\n",
              "      <td>[(3190, от 1 уп)]</td>\n",
              "      <td>L'OR</td>\n",
              "    </tr>\n",
              "  </tbody>\n",
              "</table>\n",
              "<p>393 rows × 7 columns</p>\n",
              "</div>\n",
              "    <div class=\"colab-df-buttons\">\n",
              "\n",
              "  <div class=\"colab-df-container\">\n",
              "    <button class=\"colab-df-convert\" onclick=\"convertToInteractive('df-43756195-b007-4c25-aa2f-70cbae42cfb5')\"\n",
              "            title=\"Convert this dataframe to an interactive table.\"\n",
              "            style=\"display:none;\">\n",
              "\n",
              "  <svg xmlns=\"http://www.w3.org/2000/svg\" height=\"24px\" viewBox=\"0 -960 960 960\">\n",
              "    <path d=\"M120-120v-720h720v720H120Zm60-500h600v-160H180v160Zm220 220h160v-160H400v160Zm0 220h160v-160H400v160ZM180-400h160v-160H180v160Zm440 0h160v-160H620v160ZM180-180h160v-160H180v160Zm440 0h160v-160H620v160Z\"/>\n",
              "  </svg>\n",
              "    </button>\n",
              "\n",
              "  <style>\n",
              "    .colab-df-container {\n",
              "      display:flex;\n",
              "      gap: 12px;\n",
              "    }\n",
              "\n",
              "    .colab-df-convert {\n",
              "      background-color: #E8F0FE;\n",
              "      border: none;\n",
              "      border-radius: 50%;\n",
              "      cursor: pointer;\n",
              "      display: none;\n",
              "      fill: #1967D2;\n",
              "      height: 32px;\n",
              "      padding: 0 0 0 0;\n",
              "      width: 32px;\n",
              "    }\n",
              "\n",
              "    .colab-df-convert:hover {\n",
              "      background-color: #E2EBFA;\n",
              "      box-shadow: 0px 1px 2px rgba(60, 64, 67, 0.3), 0px 1px 3px 1px rgba(60, 64, 67, 0.15);\n",
              "      fill: #174EA6;\n",
              "    }\n",
              "\n",
              "    .colab-df-buttons div {\n",
              "      margin-bottom: 4px;\n",
              "    }\n",
              "\n",
              "    [theme=dark] .colab-df-convert {\n",
              "      background-color: #3B4455;\n",
              "      fill: #D2E3FC;\n",
              "    }\n",
              "\n",
              "    [theme=dark] .colab-df-convert:hover {\n",
              "      background-color: #434B5C;\n",
              "      box-shadow: 0px 1px 3px 1px rgba(0, 0, 0, 0.15);\n",
              "      filter: drop-shadow(0px 1px 2px rgba(0, 0, 0, 0.3));\n",
              "      fill: #FFFFFF;\n",
              "    }\n",
              "  </style>\n",
              "\n",
              "    <script>\n",
              "      const buttonEl =\n",
              "        document.querySelector('#df-43756195-b007-4c25-aa2f-70cbae42cfb5 button.colab-df-convert');\n",
              "      buttonEl.style.display =\n",
              "        google.colab.kernel.accessAllowed ? 'block' : 'none';\n",
              "\n",
              "      async function convertToInteractive(key) {\n",
              "        const element = document.querySelector('#df-43756195-b007-4c25-aa2f-70cbae42cfb5');\n",
              "        const dataTable =\n",
              "          await google.colab.kernel.invokeFunction('convertToInteractive',\n",
              "                                                    [key], {});\n",
              "        if (!dataTable) return;\n",
              "\n",
              "        const docLinkHtml = 'Like what you see? Visit the ' +\n",
              "          '<a target=\"_blank\" href=https://colab.research.google.com/notebooks/data_table.ipynb>data table notebook</a>'\n",
              "          + ' to learn more about interactive tables.';\n",
              "        element.innerHTML = '';\n",
              "        dataTable['output_type'] = 'display_data';\n",
              "        await google.colab.output.renderOutput(dataTable, element);\n",
              "        const docLink = document.createElement('div');\n",
              "        docLink.innerHTML = docLinkHtml;\n",
              "        element.appendChild(docLink);\n",
              "      }\n",
              "    </script>\n",
              "  </div>\n",
              "\n",
              "\n",
              "<div id=\"df-0adfb80a-ed0f-48e1-bf3a-6f84ae764314\">\n",
              "  <button class=\"colab-df-quickchart\" onclick=\"quickchart('df-0adfb80a-ed0f-48e1-bf3a-6f84ae764314')\"\n",
              "            title=\"Suggest charts\"\n",
              "            style=\"display:none;\">\n",
              "\n",
              "<svg xmlns=\"http://www.w3.org/2000/svg\" height=\"24px\"viewBox=\"0 0 24 24\"\n",
              "     width=\"24px\">\n",
              "    <g>\n",
              "        <path d=\"M19 3H5c-1.1 0-2 .9-2 2v14c0 1.1.9 2 2 2h14c1.1 0 2-.9 2-2V5c0-1.1-.9-2-2-2zM9 17H7v-7h2v7zm4 0h-2V7h2v10zm4 0h-2v-4h2v4z\"/>\n",
              "    </g>\n",
              "</svg>\n",
              "  </button>\n",
              "\n",
              "<style>\n",
              "  .colab-df-quickchart {\n",
              "      --bg-color: #E8F0FE;\n",
              "      --fill-color: #1967D2;\n",
              "      --hover-bg-color: #E2EBFA;\n",
              "      --hover-fill-color: #174EA6;\n",
              "      --disabled-fill-color: #AAA;\n",
              "      --disabled-bg-color: #DDD;\n",
              "  }\n",
              "\n",
              "  [theme=dark] .colab-df-quickchart {\n",
              "      --bg-color: #3B4455;\n",
              "      --fill-color: #D2E3FC;\n",
              "      --hover-bg-color: #434B5C;\n",
              "      --hover-fill-color: #FFFFFF;\n",
              "      --disabled-bg-color: #3B4455;\n",
              "      --disabled-fill-color: #666;\n",
              "  }\n",
              "\n",
              "  .colab-df-quickchart {\n",
              "    background-color: var(--bg-color);\n",
              "    border: none;\n",
              "    border-radius: 50%;\n",
              "    cursor: pointer;\n",
              "    display: none;\n",
              "    fill: var(--fill-color);\n",
              "    height: 32px;\n",
              "    padding: 0;\n",
              "    width: 32px;\n",
              "  }\n",
              "\n",
              "  .colab-df-quickchart:hover {\n",
              "    background-color: var(--hover-bg-color);\n",
              "    box-shadow: 0 1px 2px rgba(60, 64, 67, 0.3), 0 1px 3px 1px rgba(60, 64, 67, 0.15);\n",
              "    fill: var(--button-hover-fill-color);\n",
              "  }\n",
              "\n",
              "  .colab-df-quickchart-complete:disabled,\n",
              "  .colab-df-quickchart-complete:disabled:hover {\n",
              "    background-color: var(--disabled-bg-color);\n",
              "    fill: var(--disabled-fill-color);\n",
              "    box-shadow: none;\n",
              "  }\n",
              "\n",
              "  .colab-df-spinner {\n",
              "    border: 2px solid var(--fill-color);\n",
              "    border-color: transparent;\n",
              "    border-bottom-color: var(--fill-color);\n",
              "    animation:\n",
              "      spin 1s steps(1) infinite;\n",
              "  }\n",
              "\n",
              "  @keyframes spin {\n",
              "    0% {\n",
              "      border-color: transparent;\n",
              "      border-bottom-color: var(--fill-color);\n",
              "      border-left-color: var(--fill-color);\n",
              "    }\n",
              "    20% {\n",
              "      border-color: transparent;\n",
              "      border-left-color: var(--fill-color);\n",
              "      border-top-color: var(--fill-color);\n",
              "    }\n",
              "    30% {\n",
              "      border-color: transparent;\n",
              "      border-left-color: var(--fill-color);\n",
              "      border-top-color: var(--fill-color);\n",
              "      border-right-color: var(--fill-color);\n",
              "    }\n",
              "    40% {\n",
              "      border-color: transparent;\n",
              "      border-right-color: var(--fill-color);\n",
              "      border-top-color: var(--fill-color);\n",
              "    }\n",
              "    60% {\n",
              "      border-color: transparent;\n",
              "      border-right-color: var(--fill-color);\n",
              "    }\n",
              "    80% {\n",
              "      border-color: transparent;\n",
              "      border-right-color: var(--fill-color);\n",
              "      border-bottom-color: var(--fill-color);\n",
              "    }\n",
              "    90% {\n",
              "      border-color: transparent;\n",
              "      border-bottom-color: var(--fill-color);\n",
              "    }\n",
              "  }\n",
              "</style>\n",
              "\n",
              "  <script>\n",
              "    async function quickchart(key) {\n",
              "      const quickchartButtonEl =\n",
              "        document.querySelector('#' + key + ' button');\n",
              "      quickchartButtonEl.disabled = true;  // To prevent multiple clicks.\n",
              "      quickchartButtonEl.classList.add('colab-df-spinner');\n",
              "      try {\n",
              "        const charts = await google.colab.kernel.invokeFunction(\n",
              "            'suggestCharts', [key], {});\n",
              "      } catch (error) {\n",
              "        console.error('Error during call to suggestCharts:', error);\n",
              "      }\n",
              "      quickchartButtonEl.classList.remove('colab-df-spinner');\n",
              "      quickchartButtonEl.classList.add('colab-df-quickchart-complete');\n",
              "    }\n",
              "    (() => {\n",
              "      let quickchartButtonEl =\n",
              "        document.querySelector('#df-0adfb80a-ed0f-48e1-bf3a-6f84ae764314 button');\n",
              "      quickchartButtonEl.style.display =\n",
              "        google.colab.kernel.accessAllowed ? 'block' : 'none';\n",
              "    })();\n",
              "  </script>\n",
              "</div>\n",
              "    </div>\n",
              "  </div>\n"
            ],
            "application/vnd.google.colaboratory.intrinsic+json": {
              "type": "dataframe",
              "variable_name": "df",
              "summary": "{\n  \"name\": \"df\",\n  \"rows\": 393,\n  \"fields\": [\n    {\n      \"column\": \"product_id\",\n      \"properties\": {\n        \"dtype\": \"number\",\n        \"std\": 174350,\n        \"min\": 8352,\n        \"max\": 666415,\n        \"num_unique_values\": 392,\n        \"samples\": [\n          230300,\n          229162,\n          229159\n        ],\n        \"semantic_type\": \"\",\n        \"description\": \"\"\n      }\n    },\n    {\n      \"column\": \"title\",\n      \"properties\": {\n        \"dtype\": \"string\",\n        \"num_unique_values\": 389,\n        \"samples\": [\n          \"\\u041a\\u043e\\u0444\\u0435 D'Arte Light \\u0440\\u0430\\u0441\\u0442\\u0432\\u043e\\u0440\\u0438\\u043c\\u044b\\u0439, 100\\u0433\",\n          \"\\u041a\\u043e\\u0444\\u0435 Julius Meinl \\u041f\\u0440\\u0435\\u0437\\u0438\\u0434\\u0435\\u043d\\u0442 \\u0432 \\u0437\\u0435\\u0440\\u043d\\u0430\\u0445, 500\\u0433\",\n          \"\\u041a\\u043e\\u0444\\u0435 Egoiste Very Special \\u0440\\u0430\\u0441\\u0442\\u0432\\u043e\\u0440\\u0438\\u043c\\u044b\\u0439 \\u0441\\u0443\\u0431\\u043b\\u0438\\u043c\\u0438\\u0440\\u043e\\u0432\\u0430\\u043d\\u043d\\u044b\\u0439, 100\\u0433\"\n        ],\n        \"semantic_type\": \"\",\n        \"description\": \"\"\n      }\n    },\n    {\n      \"column\": \"link\",\n      \"properties\": {\n        \"dtype\": \"string\",\n        \"num_unique_values\": 392,\n        \"samples\": [\n          \"/products/kofe-monarch-velour-rastvorimyy-95g\",\n          \"/products/150g-kofe-tchibo-gold-selection-rastvorimyy\",\n          \"/products/95g-kofe-tchibo-gold-selection-rastvorimyy-stb\"\n        ],\n        \"semantic_type\": \"\",\n        \"description\": \"\"\n      }\n    },\n    {\n      \"column\": \"onlineRegular\",\n      \"properties\": {\n        \"dtype\": \"number\",\n        \"std\": 1233,\n        \"min\": 130,\n        \"max\": 12594,\n        \"num_unique_values\": 170,\n        \"samples\": [\n          1839,\n          2219,\n          409\n        ],\n        \"semantic_type\": \"\",\n        \"description\": \"\"\n      }\n    },\n    {\n      \"column\": \"onlineDiscount\",\n      \"properties\": {\n        \"dtype\": \"number\",\n        \"std\": 569,\n        \"min\": 0,\n        \"max\": 2499,\n        \"num_unique_values\": 93,\n        \"samples\": [\n          599,\n          0,\n          639\n        ],\n        \"semantic_type\": \"\",\n        \"description\": \"\"\n      }\n    },\n    {\n      \"column\": \"prices_shop\",\n      \"properties\": {\n        \"dtype\": \"object\",\n        \"semantic_type\": \"\",\n        \"description\": \"\"\n      }\n    },\n    {\n      \"column\": \"brand\",\n      \"properties\": {\n        \"dtype\": \"category\",\n        \"num_unique_values\": 42,\n        \"samples\": [\n          \"MISCELAD'ORO\",\n          \"POETTI\",\n          \"MONARCH\"\n        ],\n        \"semantic_type\": \"\",\n        \"description\": \"\"\n      }\n    }\n  ]\n}"
            }
          },
          "metadata": {},
          "execution_count": 511
        }
      ]
    },
    {
      "cell_type": "code",
      "source": [
        "df.to_csv(\"products.csv\")"
      ],
      "metadata": {
        "id": "wZh7RDWSV9bD"
      },
      "execution_count": 512,
      "outputs": []
    }
  ]
}