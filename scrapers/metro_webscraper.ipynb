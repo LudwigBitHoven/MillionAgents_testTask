{
  "nbformat": 4,
  "nbformat_minor": 0,
  "metadata": {
    "colab": {
      "provenance": [],
      "collapsed_sections": [
        "t7mca1Xle45b"
      ],
      "authorship_tag": "ABX9TyORrCnslJaXin7dZoB3W0Q7",
      "include_colab_link": true
    },
    "kernelspec": {
      "name": "python3",
      "display_name": "Python 3"
    },
    "language_info": {
      "name": "python"
    }
  },
  "cells": [
    {
      "cell_type": "markdown",
      "metadata": {
        "id": "view-in-github",
        "colab_type": "text"
      },
      "source": [
        "<a href=\"https://colab.research.google.com/github/LudwigBitHoven/MillionAgents_testTask/blob/main/scrapers/metro_webscraper.ipynb\" target=\"_parent\"><img src=\"https://colab.research.google.com/assets/colab-badge.svg\" alt=\"Open In Colab\"/></a>"
      ]
    },
    {
      "cell_type": "markdown",
      "source": [
        "# Установим selenium"
      ],
      "metadata": {
        "id": "7nwgMAlTddqG"
      }
    },
    {
      "cell_type": "code",
      "source": [
        "!pip install selenium"
      ],
      "metadata": {
        "colab": {
          "base_uri": "https://localhost:8080/"
        },
        "id": "-gnPsADuD0Hq",
        "outputId": "7a27616d-ea4b-4a91-ff6f-d45dccd54fb5"
      },
      "execution_count": 1,
      "outputs": [
        {
          "output_type": "stream",
          "name": "stdout",
          "text": [
            "Collecting selenium\n",
            "  Downloading selenium-4.20.0-py3-none-any.whl (9.5 MB)\n",
            "\u001b[2K     \u001b[90m━━━━━━━━━━━━━━━━━━━━━━━━━━━━━━━━━━━━━━━━\u001b[0m \u001b[32m9.5/9.5 MB\u001b[0m \u001b[31m16.2 MB/s\u001b[0m eta \u001b[36m0:00:00\u001b[0m\n",
            "\u001b[?25hRequirement already satisfied: urllib3[socks]<3,>=1.26 in /usr/local/lib/python3.10/dist-packages (from selenium) (2.0.7)\n",
            "Collecting trio~=0.17 (from selenium)\n",
            "  Downloading trio-0.25.0-py3-none-any.whl (467 kB)\n",
            "\u001b[2K     \u001b[90m━━━━━━━━━━━━━━━━━━━━━━━━━━━━━━━━━━━━━━━━\u001b[0m \u001b[32m467.2/467.2 kB\u001b[0m \u001b[31m29.2 MB/s\u001b[0m eta \u001b[36m0:00:00\u001b[0m\n",
            "\u001b[?25hCollecting trio-websocket~=0.9 (from selenium)\n",
            "  Downloading trio_websocket-0.11.1-py3-none-any.whl (17 kB)\n",
            "Requirement already satisfied: certifi>=2021.10.8 in /usr/local/lib/python3.10/dist-packages (from selenium) (2024.2.2)\n",
            "Requirement already satisfied: typing_extensions>=4.9.0 in /usr/local/lib/python3.10/dist-packages (from selenium) (4.11.0)\n",
            "Requirement already satisfied: attrs>=23.2.0 in /usr/local/lib/python3.10/dist-packages (from trio~=0.17->selenium) (23.2.0)\n",
            "Requirement already satisfied: sortedcontainers in /usr/local/lib/python3.10/dist-packages (from trio~=0.17->selenium) (2.4.0)\n",
            "Requirement already satisfied: idna in /usr/local/lib/python3.10/dist-packages (from trio~=0.17->selenium) (3.7)\n",
            "Collecting outcome (from trio~=0.17->selenium)\n",
            "  Downloading outcome-1.3.0.post0-py2.py3-none-any.whl (10 kB)\n",
            "Requirement already satisfied: sniffio>=1.3.0 in /usr/local/lib/python3.10/dist-packages (from trio~=0.17->selenium) (1.3.1)\n",
            "Requirement already satisfied: exceptiongroup in /usr/local/lib/python3.10/dist-packages (from trio~=0.17->selenium) (1.2.1)\n",
            "Collecting wsproto>=0.14 (from trio-websocket~=0.9->selenium)\n",
            "  Downloading wsproto-1.2.0-py3-none-any.whl (24 kB)\n",
            "Requirement already satisfied: pysocks!=1.5.7,<2.0,>=1.5.6 in /usr/local/lib/python3.10/dist-packages (from urllib3[socks]<3,>=1.26->selenium) (1.7.1)\n",
            "Collecting h11<1,>=0.9.0 (from wsproto>=0.14->trio-websocket~=0.9->selenium)\n",
            "  Downloading h11-0.14.0-py3-none-any.whl (58 kB)\n",
            "\u001b[2K     \u001b[90m━━━━━━━━━━━━━━━━━━━━━━━━━━━━━━━━━━━━━━━━\u001b[0m \u001b[32m58.3/58.3 kB\u001b[0m \u001b[31m4.8 MB/s\u001b[0m eta \u001b[36m0:00:00\u001b[0m\n",
            "\u001b[?25hInstalling collected packages: outcome, h11, wsproto, trio, trio-websocket, selenium\n",
            "Successfully installed h11-0.14.0 outcome-1.3.0.post0 selenium-4.20.0 trio-0.25.0 trio-websocket-0.11.1 wsproto-1.2.0\n"
          ]
        }
      ]
    },
    {
      "cell_type": "markdown",
      "source": [
        "# Импортируем и настроим джентльменский набор для скрапинга"
      ],
      "metadata": {
        "id": "XOlRJIihdgBw"
      }
    },
    {
      "cell_type": "code",
      "execution_count": 469,
      "metadata": {
        "id": "sLljP1B-DvpK"
      },
      "outputs": [],
      "source": [
        "from bs4 import BeautifulSoup\n",
        "from selenium import webdriver\n",
        "import time\n",
        "import json\n",
        "import pandas as pd\n",
        "import requests"
      ]
    },
    {
      "cell_type": "code",
      "source": [
        "from selenium import webdriver\n",
        "from selenium.webdriver.firefox.options import Options\n",
        "\n",
        "options = Options()\n",
        "# аргумент для работы с мобильной версией сайта\n",
        "# options.add_argument('--user-agent=Mozilla/5.0 (iPhone; CPU iPhone OS 10_3 like Mac OS X) AppleWebKit/602.1.50 (KHTML, like Gecko) CriOS/56.0.2924.75 Mobile/14E5239e Safari/602.1')\n",
        "options.add_argument(\"start-maximized\")\n",
        "options.add_argument(\"--headless\")\n",
        "driver = webdriver.Firefox(options=options)"
      ],
      "metadata": {
        "id": "9VTcSM-zD7Yr"
      },
      "execution_count": 468,
      "outputs": []
    },
    {
      "cell_type": "markdown",
      "source": [
        "# Посмотрим что на странице"
      ],
      "metadata": {
        "id": "ajcpWWxAeMxs"
      }
    },
    {
      "cell_type": "markdown",
      "source": [
        "Страница товара не имеет бесконечного скролла и товары распределены по отдельным url-ам вида\n",
        "\n",
        "\n",
        "\n",
        "> \"https://online.metro-cc.ru/category/chaj-kofe-kakao/kofe?from=under_search&page=\"\n",
        "\n",
        "\n",
        "#### Можно захардкодить скрапируемые адреса с товарами следующим образом, меняя лишь параметр page:\n"
      ],
      "metadata": {
        "id": "VqSgO2o4eQVm"
      }
    },
    {
      "cell_type": "code",
      "source": [
        "pages = []\n",
        "for i in range(1, 17):\n",
        "  pages.append(f\"https://online.metro-cc.ru/category/chaj-kofe-kakao/kofe?from=under_search&page={i}\")\n",
        "pages"
      ],
      "metadata": {
        "colab": {
          "base_uri": "https://localhost:8080/"
        },
        "id": "y56gcHHjD9T-",
        "outputId": "f504a7f6-ebc6-4957-d4e8-5cef0db3ac9a"
      },
      "execution_count": 4,
      "outputs": [
        {
          "output_type": "execute_result",
          "data": {
            "text/plain": [
              "['https://online.metro-cc.ru/category/chaj-kofe-kakao/kofe?from=under_search&page=1',\n",
              " 'https://online.metro-cc.ru/category/chaj-kofe-kakao/kofe?from=under_search&page=2',\n",
              " 'https://online.metro-cc.ru/category/chaj-kofe-kakao/kofe?from=under_search&page=3',\n",
              " 'https://online.metro-cc.ru/category/chaj-kofe-kakao/kofe?from=under_search&page=4',\n",
              " 'https://online.metro-cc.ru/category/chaj-kofe-kakao/kofe?from=under_search&page=5',\n",
              " 'https://online.metro-cc.ru/category/chaj-kofe-kakao/kofe?from=under_search&page=6',\n",
              " 'https://online.metro-cc.ru/category/chaj-kofe-kakao/kofe?from=under_search&page=7',\n",
              " 'https://online.metro-cc.ru/category/chaj-kofe-kakao/kofe?from=under_search&page=8',\n",
              " 'https://online.metro-cc.ru/category/chaj-kofe-kakao/kofe?from=under_search&page=9',\n",
              " 'https://online.metro-cc.ru/category/chaj-kofe-kakao/kofe?from=under_search&page=10',\n",
              " 'https://online.metro-cc.ru/category/chaj-kofe-kakao/kofe?from=under_search&page=11',\n",
              " 'https://online.metro-cc.ru/category/chaj-kofe-kakao/kofe?from=under_search&page=12',\n",
              " 'https://online.metro-cc.ru/category/chaj-kofe-kakao/kofe?from=under_search&page=13',\n",
              " 'https://online.metro-cc.ru/category/chaj-kofe-kakao/kofe?from=under_search&page=14',\n",
              " 'https://online.metro-cc.ru/category/chaj-kofe-kakao/kofe?from=under_search&page=15',\n",
              " 'https://online.metro-cc.ru/category/chaj-kofe-kakao/kofe?from=under_search&page=16']"
            ]
          },
          "metadata": {},
          "execution_count": 4
        }
      ]
    },
    {
      "cell_type": "markdown",
      "source": [
        "## А можно сделать лучше и спарсить количество страниц по указанному адресу категории товаров:"
      ],
      "metadata": {
        "id": "t7mca1Xle45b"
      }
    },
    {
      "cell_type": "code",
      "source": [
        "# категория \"кофе\"\n",
        "url = \"https://online.metro-cc.ru/category/chaj-kofe-kakao/kofe?from=under_search&page=1\"\n",
        "driver.get(url)\n",
        "driver.execute_script(\"window.scrollTo(0, document.body.scrollHeight);\")\n",
        "time.sleep(3)\n",
        "html = driver.page_source\n",
        "soup = BeautifulSoup(html)\n",
        "# получаем все связанное с пагинацией\n",
        "pagination = soup.find(\"ul\", class_=\"catalog-paginate v-pagination\")\n",
        "list(pagination)"
      ],
      "metadata": {
        "colab": {
          "base_uri": "https://localhost:8080/"
        },
        "id": "2GasuaH-eJWz",
        "outputId": "f3c6206c-0c02-4130-c270-dcf3f107abe2"
      },
      "execution_count": 14,
      "outputs": [
        {
          "output_type": "execute_result",
          "data": {
            "text/plain": [
              "[<li data-v-46976e4c=\"\"><a aria-current=\"true\" class=\"v-pagination__item catalog-paginate__item nuxt-link-active v-pagination__item--active\" data-v-46976e4c=\"\" href=\"/category/chaj-kofe-kakao/kofe?from=under_search\">1</a></li>,\n",
              " <li data-v-46976e4c=\"\"><a class=\"v-pagination__item catalog-paginate__item nuxt-link-active\" data-v-46976e4c=\"\" href=\"/category/chaj-kofe-kakao/kofe?from=under_search&amp;page=2\">2</a></li>,\n",
              " <li data-v-46976e4c=\"\"><a class=\"v-pagination__item catalog-paginate__item nuxt-link-active\" data-v-46976e4c=\"\" href=\"/category/chaj-kofe-kakao/kofe?from=under_search&amp;page=3\">3</a></li>,\n",
              " <li data-v-46976e4c=\"\"><span class=\"v-pagination__more catalog-paginate__item disabled dots\" data-v-46976e4c=\"\">...</span></li>,\n",
              " <li data-v-46976e4c=\"\"><a class=\"v-pagination__item catalog-paginate__item nuxt-link-active\" data-v-46976e4c=\"\" href=\"/category/chaj-kofe-kakao/kofe?from=under_search&amp;page=15\">15</a></li>,\n",
              " <li data-v-46976e4c=\"\"><a class=\"v-pagination__item catalog-paginate__item nuxt-link-active\" data-v-46976e4c=\"\" href=\"/category/chaj-kofe-kakao/kofe?from=under_search&amp;page=16\">16</a></li>,\n",
              " <li data-v-46976e4c=\"\"><a class=\"v-pagination__item catalog-paginate__item nuxt-link-active\" data-v-46976e4c=\"\" href=\"/category/chaj-kofe-kakao/kofe?from=under_search&amp;page=17\">17</a></li>,\n",
              " <li data-v-46976e4c=\"\"><a class=\"v-pagination__navigation catalog-paginate__item nuxt-link-active\" data-v-46976e4c=\"\" href=\"/category/chaj-kofe-kakao/kofe?from=under_search&amp;page=2\"><svg class=\"icon sprite-icons catalog-paginate__arrow\" data-v-46976e4c=\"\" xmlns=\"http://www.w3.org/2000/svg\"><use data-v-46976e4c=\"\" href=\"/_nuxt/20acdfc9556ad3617c01bff96692ae51.svg#i-arrow-right\" xlink:href=\"/_nuxt/20acdfc9556ad3617c01bff96692ae51.svg#i-arrow-right\"></use></svg></a></li>]"
            ]
          },
          "metadata": {},
          "execution_count": 14
        }
      ]
    },
    {
      "cell_type": "code",
      "source": [
        "list(pagination)[-2] # кнопка, ведущая на самую последнюю страницу в категории"
      ],
      "metadata": {
        "colab": {
          "base_uri": "https://localhost:8080/"
        },
        "id": "4-WIrp6lhVnH",
        "outputId": "62776aac-f250-4235-d47d-2162a8762793"
      },
      "execution_count": 15,
      "outputs": [
        {
          "output_type": "execute_result",
          "data": {
            "text/plain": [
              "<li data-v-46976e4c=\"\"><a class=\"v-pagination__item catalog-paginate__item nuxt-link-active\" data-v-46976e4c=\"\" href=\"/category/chaj-kofe-kakao/kofe?from=under_search&amp;page=17\">17</a></li>"
            ]
          },
          "metadata": {},
          "execution_count": 15
        }
      ]
    },
    {
      "cell_type": "code",
      "source": [
        "last_page = int(list(pagination)[-2].text)\n",
        "last_page # индекс последней страницы из имени кнопки"
      ],
      "metadata": {
        "colab": {
          "base_uri": "https://localhost:8080/"
        },
        "id": "tq2mWsjnheUd",
        "outputId": "3ec2c25d-9c4a-4bc5-cdc3-0ba73438b6db"
      },
      "execution_count": 16,
      "outputs": [
        {
          "output_type": "execute_result",
          "data": {
            "text/plain": [
              "17"
            ]
          },
          "metadata": {},
          "execution_count": 16
        }
      ]
    },
    {
      "cell_type": "markdown",
      "source": [
        "Теперь получим пул url адресов, с которых необходимо будет соскрапить товары"
      ],
      "metadata": {
        "id": "SdhuYayXijEW"
      }
    },
    {
      "cell_type": "code",
      "source": [
        "pages = []\n",
        "for i in range(1, last_page + 1):\n",
        "  pages.append(f\"https://online.metro-cc.ru/category/chaj-kofe-kakao/kofe?from=under_search&page={i}\")\n",
        "pages"
      ],
      "metadata": {
        "colab": {
          "base_uri": "https://localhost:8080/"
        },
        "id": "3KRilP4Ph37G",
        "outputId": "7a7bfdd5-5807-4f93-9959-918148688aab"
      },
      "execution_count": 428,
      "outputs": [
        {
          "output_type": "execute_result",
          "data": {
            "text/plain": [
              "['https://online.metro-cc.ru/category/chaj-kofe-kakao/kofe?from=under_search&page=1',\n",
              " 'https://online.metro-cc.ru/category/chaj-kofe-kakao/kofe?from=under_search&page=2',\n",
              " 'https://online.metro-cc.ru/category/chaj-kofe-kakao/kofe?from=under_search&page=3',\n",
              " 'https://online.metro-cc.ru/category/chaj-kofe-kakao/kofe?from=under_search&page=4',\n",
              " 'https://online.metro-cc.ru/category/chaj-kofe-kakao/kofe?from=under_search&page=5',\n",
              " 'https://online.metro-cc.ru/category/chaj-kofe-kakao/kofe?from=under_search&page=6',\n",
              " 'https://online.metro-cc.ru/category/chaj-kofe-kakao/kofe?from=under_search&page=7',\n",
              " 'https://online.metro-cc.ru/category/chaj-kofe-kakao/kofe?from=under_search&page=8',\n",
              " 'https://online.metro-cc.ru/category/chaj-kofe-kakao/kofe?from=under_search&page=9',\n",
              " 'https://online.metro-cc.ru/category/chaj-kofe-kakao/kofe?from=under_search&page=10',\n",
              " 'https://online.metro-cc.ru/category/chaj-kofe-kakao/kofe?from=under_search&page=11',\n",
              " 'https://online.metro-cc.ru/category/chaj-kofe-kakao/kofe?from=under_search&page=12',\n",
              " 'https://online.metro-cc.ru/category/chaj-kofe-kakao/kofe?from=under_search&page=13',\n",
              " 'https://online.metro-cc.ru/category/chaj-kofe-kakao/kofe?from=under_search&page=14',\n",
              " 'https://online.metro-cc.ru/category/chaj-kofe-kakao/kofe?from=under_search&page=15',\n",
              " 'https://online.metro-cc.ru/category/chaj-kofe-kakao/kofe?from=under_search&page=16',\n",
              " 'https://online.metro-cc.ru/category/chaj-kofe-kakao/kofe?from=under_search&page=17']"
            ]
          },
          "metadata": {},
          "execution_count": 428
        }
      ]
    },
    {
      "cell_type": "markdown",
      "source": [
        "## Попробуем вытянуть данные о товаре со страницы"
      ],
      "metadata": {
        "id": "Lbus9px_k_st"
      }
    },
    {
      "cell_type": "markdown",
      "source": [
        "### Соскрапим все простое:"
      ],
      "metadata": {
        "id": "B9hg9-EHlF5A"
      }
    },
    {
      "cell_type": "code",
      "source": [
        "driver.get(\"https://online.metro-cc.ru/category/chaj-kofe-kakao/kofe?from=under_search&page=10\") # возьмем страницу\n",
        "driver.execute_script(\"window.scrollTo(0, document.body.scrollHeight);\")\n",
        "time.sleep(3)\n",
        "html = driver.page_source\n",
        "soup = BeautifulSoup(html)"
      ],
      "metadata": {
        "id": "7-p6pteNFKmJ"
      },
      "execution_count": 480,
      "outputs": []
    },
    {
      "cell_type": "markdown",
      "source": [
        "Выделяем название товара"
      ],
      "metadata": {
        "id": "94SRIfPSlmKV"
      }
    },
    {
      "cell_type": "code",
      "source": [
        "products = soup.findAll(\"div\", class_=\"product-card-photo catalog-2-level-product-card__photo style--catalog-2-level-product-card\")\n",
        "products[0].findAll(\"a\")[0][\"title\"] # выделяем название товара"
      ],
      "metadata": {
        "colab": {
          "base_uri": "https://localhost:8080/",
          "height": 35
        },
        "id": "asKmJcNGcjvX",
        "outputId": "b6395658-50e6-415f-a051-53ce5de12486"
      },
      "execution_count": 486,
      "outputs": [
        {
          "output_type": "execute_result",
          "data": {
            "text/plain": [
              "'Кофе Жокей классический 3в1 растворимый (12г x 50шт), 600г'"
            ],
            "application/vnd.google.colaboratory.intrinsic+json": {
              "type": "string"
            }
          },
          "metadata": {},
          "execution_count": 486
        }
      ]
    },
    {
      "cell_type": "markdown",
      "source": [
        "Выделяем бренд в отдельном запросе"
      ],
      "metadata": {
        "id": "-ZpqFKUB_pDB"
      }
    },
    {
      "cell_type": "code",
      "source": [
        "products[0].findAll(\"a\")[0][\"href\"] # ссылка на товар без базового url\n",
        "url = \"https://online.metro-cc.ru\" + products[0].findAll(\"a\")[0][\"href\"]\n",
        "subsoup = BeautifulSoup(requests.get(url).text, 'html.parser')\n",
        "brand = subsoup.findAll(\"a\", class_=\"product-attributes__list-item-link reset-link active-blue-text\")[-3]\n",
        "brand = brand.text.replace(\"\\n\", \"\") # удаляем переносы строки\n",
        "brand = brand.replace(\" \", \"\") # удаляем пробелы\n",
        "brand"
      ],
      "metadata": {
        "colab": {
          "base_uri": "https://localhost:8080/",
          "height": 35
        },
        "id": "uGEJgzCZhCAf",
        "outputId": "af7408da-529b-404d-c97f-16b430033ca4"
      },
      "execution_count": 485,
      "outputs": [
        {
          "output_type": "execute_result",
          "data": {
            "text/plain": [
              "'ЖОКЕЙ'"
            ],
            "application/vnd.google.colaboratory.intrinsic+json": {
              "type": "string"
            }
          },
          "metadata": {},
          "execution_count": 485
        }
      ]
    },
    {
      "cell_type": "markdown",
      "source": [
        "Выделяем id товара"
      ],
      "metadata": {
        "id": "CngSTBduE2g7"
      }
    },
    {
      "cell_type": "code",
      "source": [
        "products = soup.findAll(\"div\", class_=\"catalog-2-level-product-card product-card subcategory-or-type__products-item with-prices-drop\")\n",
        "int(products[0][\"data-sku\"]) # id товара"
      ],
      "metadata": {
        "colab": {
          "base_uri": "https://localhost:8080/"
        },
        "id": "FpA0uJgDm8ov",
        "outputId": "b19fc6f7-39c2-4959-ec2c-115349f2c498"
      },
      "execution_count": 484,
      "outputs": [
        {
          "output_type": "execute_result",
          "data": {
            "text/plain": [
              "234805"
            ]
          },
          "metadata": {},
          "execution_count": 484
        }
      ]
    },
    {
      "cell_type": "markdown",
      "source": [
        "Напишем функцию для определения бренда"
      ],
      "metadata": {
        "id": "qAbCedN0EPnY"
      }
    },
    {
      "cell_type": "code",
      "source": [
        "def get_brand(href):\n",
        "  \"\"\"\n",
        "    Функция выполняет дополнительный запрос на страницу товара, чтобы\n",
        "    вытянуть название бренда\n",
        "  \"\"\"\n",
        "  try:\n",
        "    url = \"https://online.metro-cc.ru\" + href\n",
        "    subsoup = BeautifulSoup(requests.get(url, timeout=6).text, 'html.parser')\n",
        "    brand = subsoup.findAll(\"a\", class_=\"product-attributes__list-item-link reset-link active-blue-text\")[-3]\n",
        "    brand = brand.text.replace(\"\\n\", \"\")\n",
        "    brand = brand.replace(\" \", \"\")\n",
        "    return brand\n",
        "  except Exception: # хорошо бы исправить в дальнейшем\n",
        "    print(f\"Error occured at {url}\")\n",
        "    return \"\"\n",
        "\n",
        "get_brand(products[0].find(\"a\")[\"href\"]) # протестируем функцию скрапа бренда"
      ],
      "metadata": {
        "colab": {
          "base_uri": "https://localhost:8080/",
          "height": 35
        },
        "id": "l4nB-xG5kAS3",
        "outputId": "ef2ea040-fb60-4c71-8680-dc2c50c75451"
      },
      "execution_count": 463,
      "outputs": [
        {
          "output_type": "execute_result",
          "data": {
            "text/plain": [
              "'MACCOFFEE'"
            ],
            "application/vnd.google.colaboratory.intrinsic+json": {
              "type": "string"
            }
          },
          "metadata": {},
          "execution_count": 463
        }
      ]
    },
    {
      "cell_type": "markdown",
      "source": [
        "### Цены на сайте можно разделить на две категории: цены в онлайн магазине и цены в торговом центре. Один товар может иметь один ценник в онлайн магазине. В свою очередь ценник может иметь два значения (акционная цена и обычная цена), или одно (обычная цена). Ценник в торговом центре может иметь неограниченное количество значений для каждой из действующих в центре акций. Например один товар может проходить по большому количеству акций и иметь разные цены в зависимости от приобретаемого количества этого товара:\n",
        "\n",
        "\n",
        "*   699р ~~899р~~ - 1 шт\n",
        "*   1199р ~~1799р~~ - 2 шт\n",
        "*   1699р ~~1999р~~ - 3 шт и т.д."
      ],
      "metadata": {
        "id": "pGU98AaZAFSq"
      }
    },
    {
      "cell_type": "markdown",
      "source": [
        "### Также возможен вариант, когда форматы цен чередуются:\n",
        "\n",
        "\n",
        "*   699р ~~899р~~ - 1 шт\n",
        "*   1199р - 2 шт\n",
        "*   1699р - 3 шт и т.д."
      ],
      "metadata": {
        "id": "hxnckFCwDdSr"
      }
    },
    {
      "cell_type": "markdown",
      "source": [
        "### Напишем функцию, чтобы собирать цены, учитывая вышеописанные нюансы:"
      ],
      "metadata": {
        "id": "7P2ulVrfDxh6"
      }
    },
    {
      "cell_type": "code",
      "source": [
        "def get_prices_shop(product):\n",
        "  res = []\n",
        "  # ищем все значения в ценнике\n",
        "  temp = product.findAll(\"li\", class_=\"product-prices-lines__item\")\n",
        "  for i in temp:\n",
        "    offers = i.findAll(\"span\", class_=\"product-prices-lines__item-count nowrap\") # находим условия\n",
        "    prices = i.find(\"span\", class_=\"product-price__sum-rubles\") # находим цену по акции\n",
        "    for idx, price in enumerate(prices):\n",
        "      price = price.text.replace(\"\\xa0\", \"\")\n",
        "      offer = offers[idx - 1].text.strip()\n",
        "      res.append((int(price), offer))\n",
        "  return res\n",
        "\n",
        "def get_prices_online(product):\n",
        "  res = {\n",
        "    \"onlineDiscount\": 0, # онлайн заказ по скидке\n",
        "    \"onlineRegular\": 0, # онлайн заказ без скидки\n",
        "  }\n",
        "  # находим ценник\n",
        "  temp = product.find(\"div\", class_=\"product-unit-prices__trigger\")\n",
        "  temp = temp.findAll(\"span\", class_=\"product-price__sum-rubles\")\n",
        "  temp = [int(i.text.replace(\"\\xa0\", \"\")) for i in temp]\n",
        "  if len(temp) == 1:\n",
        "    # если товар не акционный, то заполняем только onlineRegular\n",
        "    res[\"onlineRegular\"] = temp[0]\n",
        "  else:\n",
        "    # если товар акционный, то заполняем поле onlineDiscount\n",
        "    res[\"onlineDiscount\"] = temp[0]\n",
        "    res[\"onlineRegular\"] = temp[1]\n",
        "  return res\n",
        "\n",
        "\n",
        "products = soup.findAll(\"div\", class_=\"catalog-2-level-product-card product-card subcategory-or-type__products-item with-prices-drop\")\n",
        "for i in products:\n",
        "  button_txt = i.find(\"span\", class_=\"simple-button__text\").text\n",
        "  if \"В корзину\" in button_txt or \"Только\" in button_txt: # проверка на наличие в магазине\n",
        "    print(get_prices_shop(i), get_prices_online(i))"
      ],
      "metadata": {
        "colab": {
          "base_uri": "https://localhost:8080/"
        },
        "id": "GBj7Kxf6KAiF",
        "outputId": "5f0d02ce-d636-4c21-b9c3-6dfd3c984e87"
      },
      "execution_count": 501,
      "outputs": [
        {
          "output_type": "stream",
          "name": "stdout",
          "text": [
            "[(429, 'от 1 шт')] {'onlineDiscount': 449, 'onlineRegular': 529}\n",
            "[(289, 'от 1 шт')] {'onlineDiscount': 299, 'onlineRegular': 499}\n",
            "[(389, 'от 1 шт')] {'onlineDiscount': 419, 'onlineRegular': 469}\n",
            "[(389, 'от 1 шт')] {'onlineDiscount': 399, 'onlineRegular': 469}\n",
            "[(359, 'от 1 шт')] {'onlineDiscount': 399, 'onlineRegular': 449}\n",
            "[(229, 'от 1 шт')] {'onlineDiscount': 229, 'onlineRegular': 319}\n",
            "[(349, 'от 1 шт')] {'onlineDiscount': 349, 'onlineRegular': 419}\n",
            "[(149, 'от 1 шт')] {'onlineDiscount': 149, 'onlineRegular': 207}\n",
            "[(319, 'от 1 шт')] {'onlineDiscount': 349, 'onlineRegular': 389}\n",
            "[(349, 'от 1 шт')] {'onlineDiscount': 379, 'onlineRegular': 399}\n",
            "[(349, 'от 1 шт')] {'onlineDiscount': 349, 'onlineRegular': 359}\n",
            "[(329, 'от 1 шт')] {'onlineDiscount': 339, 'onlineRegular': 359}\n",
            "[(359, 'от 1 шт')] {'onlineDiscount': 0, 'onlineRegular': 359}\n",
            "[(349, 'от 1 шт')] {'onlineDiscount': 349, 'onlineRegular': 399}\n",
            "[(299, 'от 1 шт')] {'onlineDiscount': 299, 'onlineRegular': 369}\n",
            "[(299, 'от 1 шт')] {'onlineDiscount': 299, 'onlineRegular': 369}\n",
            "[(159, 'от 1 шт')] {'onlineDiscount': 159, 'onlineRegular': 216}\n",
            "[(299, 'от 1 шт')] {'onlineDiscount': 299, 'onlineRegular': 369}\n",
            "[(189, 'от 1 шт')] {'onlineDiscount': 189, 'onlineRegular': 276}\n",
            "[(209, 'от 1 шт')] {'onlineDiscount': 209, 'onlineRegular': 289}\n",
            "[(189, 'от 1 шт')] {'onlineDiscount': 189, 'onlineRegular': 236}\n",
            "[(229, 'от 1 шт')] {'onlineDiscount': 229, 'onlineRegular': 259}\n",
            "[(229, 'от 1 шт')] {'onlineDiscount': 229, 'onlineRegular': 293}\n",
            "[(359, 'от 1 шт')] {'onlineDiscount': 0, 'onlineRegular': 369}\n",
            "[(1499, 'от 1 шт')] {'onlineDiscount': 1499, 'onlineRegular': 1859}\n",
            "[(749, 'от 1 шт')] {'onlineDiscount': 0, 'onlineRegular': 799}\n",
            "[(1249, 'от 1 шт')] {'onlineDiscount': 1349, 'onlineRegular': 1539}\n",
            "[(649, 'от 1 шт')] {'onlineDiscount': 649, 'onlineRegular': 669}\n",
            "[(189, 'от 1 шт')] {'onlineDiscount': 189, 'onlineRegular': 263}\n",
            "[(389, 'от 1 шт'), (329, 'от 3 шт')] {'onlineDiscount': 299, 'onlineRegular': 419}\n"
          ]
        }
      ]
    },
    {
      "cell_type": "code",
      "source": [
        "products = soup.findAll(\"div\", class_=\"catalog-2-level-product-card product-card subcategory-or-type__products-item with-prices-drop\")\n",
        "tup = {\n",
        "          \"product_id\": int(products[0][\"data-sku\"]),\n",
        "          **get_prices_online(products[0]),\n",
        "          \"prices_shop\": get_prices_shop(products[0])\n",
        "      }\n",
        "temp = products[0].findAll(\"div\", class_=\"product-card-photo catalog-2-level-product-card__photo style--catalog-2-level-product-card\")\n",
        "tup[\"title\"] = temp[0].find(\"a\")[\"title\"] # название продукта\n",
        "tup[\"link\"] = temp[0].find(\"a\")[\"href\"] # ссылка на товар\n",
        "tup[\"brand\"] = get_brand(tup[\"link\"]) # бренд\n",
        "\n",
        "for line in tup:\n",
        "  print(line, tup[line])"
      ],
      "metadata": {
        "colab": {
          "base_uri": "https://localhost:8080/"
        },
        "id": "V0wQGDbRIF6Q",
        "outputId": "625aafb0-fc12-4e66-b287-e99148d1a46c"
      },
      "execution_count": 502,
      "outputs": [
        {
          "output_type": "stream",
          "name": "stdout",
          "text": [
            "product_id 234805\n",
            "onlineDiscount 449\n",
            "onlineRegular 529\n",
            "prices_shop [(429, 'от 1 шт')]\n",
            "title Кофе Жокей классический 3в1 растворимый (12г x 50шт), 600г\n",
            "link /products/kofe-zhokey-klassicheskiy-3v1-rastvorimyy-12g-x-50sht-600g\n",
            "brand ЖОКЕЙ\n"
          ]
        }
      ]
    },
    {
      "cell_type": "markdown",
      "source": [
        "# Скрапинг"
      ],
      "metadata": {
        "id": "b1yo-kiDolCW"
      }
    },
    {
      "cell_type": "markdown",
      "source": [
        "Проверим для какого магазина собирается информация:"
      ],
      "metadata": {
        "id": "Ymyh4DzyEt0Y"
      }
    },
    {
      "cell_type": "code",
      "source": [
        "soup.find(\"address\", class_=\"header-address__receive-address header-address__receive-address--blured\").text.strip()"
      ],
      "metadata": {
        "colab": {
          "base_uri": "https://localhost:8080/",
          "height": 35
        },
        "id": "j_pbQ95lZRW3",
        "outputId": "3067cadc-623b-4efc-f990-58757c5b1e5a"
      },
      "execution_count": 503,
      "outputs": [
        {
          "output_type": "execute_result",
          "data": {
            "text/plain": [
              "'Москва, Ул. Ленинградское шоссе, д. 71Г (м. Речной вокзал)'"
            ],
            "application/vnd.google.colaboratory.intrinsic+json": {
              "type": "string"
            }
          },
          "metadata": {},
          "execution_count": 503
        }
      ]
    },
    {
      "cell_type": "code",
      "source": [
        "data = {\"product_id\": [], \"title\": [], \"link\": [], \"onlineRegular\": [], \"onlineDiscount\": [], \"prices_shop\": [], \"brand\": []}\n",
        "\n",
        "cnt = 0\n",
        "for page in pages:\n",
        "  driver.get(page) # делаем запрос и получаем страницу\n",
        "  driver.execute_script(\"window.scrollTo(0, document.body.scrollHeight);\") # скроллим вниз для загрузки всех товаров\n",
        "  time.sleep(3) # ждем прогрузки\n",
        "  html = driver.page_source\n",
        "  soup = BeautifulSoup(html)\n",
        "  # составляем список товаров\n",
        "  products = soup.findAll(\"div\", class_=\"catalog-2-level-product-card product-card subcategory-or-type__products-item with-prices-drop\")\n",
        "  for product in products:\n",
        "    button_txt = product.find(\"span\", class_=\"simple-button__text\").text\n",
        "    if \"В корзину\" in button_txt or \"Только\" in button_txt: # проверка на наличие в магазине\n",
        "      time.sleep(1)\n",
        "      tup = {\n",
        "          \"product_id\": int(product[\"data-sku\"]),\n",
        "          **get_prices_online(product),\n",
        "          \"prices_shop\": get_prices_shop(product)\n",
        "      }\n",
        "      temp = product.findAll(\"div\", class_=\"product-card-photo catalog-2-level-product-card__photo style--catalog-2-level-product-card\")\n",
        "      tup[\"title\"] = temp[0].find(\"a\")[\"title\"] # название продукта\n",
        "      tup[\"link\"] = temp[0].find(\"a\")[\"href\"] # ссылка на товар\n",
        "      tup[\"brand\"] = get_brand(tup[\"link\"]), # бренд\n",
        "      for key in tup:\n",
        "        data[key].append(tup[key])\n",
        "        cnt += 1\n",
        "  print(f\"Page '{page}' scraped\")\n",
        "print(f\"Scraped all data, totally {cnt}\")"
      ],
      "metadata": {
        "colab": {
          "base_uri": "https://localhost:8080/"
        },
        "id": "NYtnVlB2LhGw",
        "outputId": "8d852267-270f-4359-9446-f1d682c8ff26"
      },
      "execution_count": 504,
      "outputs": [
        {
          "output_type": "stream",
          "name": "stdout",
          "text": [
            "Page 'https://online.metro-cc.ru/category/chaj-kofe-kakao/kofe?from=under_search&page=1' scraped\n",
            "Page 'https://online.metro-cc.ru/category/chaj-kofe-kakao/kofe?from=under_search&page=2' scraped\n",
            "Page 'https://online.metro-cc.ru/category/chaj-kofe-kakao/kofe?from=under_search&page=3' scraped\n",
            "Page 'https://online.metro-cc.ru/category/chaj-kofe-kakao/kofe?from=under_search&page=4' scraped\n",
            "Page 'https://online.metro-cc.ru/category/chaj-kofe-kakao/kofe?from=under_search&page=5' scraped\n",
            "Page 'https://online.metro-cc.ru/category/chaj-kofe-kakao/kofe?from=under_search&page=6' scraped\n",
            "Page 'https://online.metro-cc.ru/category/chaj-kofe-kakao/kofe?from=under_search&page=7' scraped\n",
            "Page 'https://online.metro-cc.ru/category/chaj-kofe-kakao/kofe?from=under_search&page=8' scraped\n",
            "Page 'https://online.metro-cc.ru/category/chaj-kofe-kakao/kofe?from=under_search&page=9' scraped\n",
            "Page 'https://online.metro-cc.ru/category/chaj-kofe-kakao/kofe?from=under_search&page=10' scraped\n",
            "Page 'https://online.metro-cc.ru/category/chaj-kofe-kakao/kofe?from=under_search&page=11' scraped\n",
            "Page 'https://online.metro-cc.ru/category/chaj-kofe-kakao/kofe?from=under_search&page=12' scraped\n",
            "Page 'https://online.metro-cc.ru/category/chaj-kofe-kakao/kofe?from=under_search&page=13' scraped\n",
            "Page 'https://online.metro-cc.ru/category/chaj-kofe-kakao/kofe?from=under_search&page=14' scraped\n",
            "Page 'https://online.metro-cc.ru/category/chaj-kofe-kakao/kofe?from=under_search&page=15' scraped\n",
            "Page 'https://online.metro-cc.ru/category/chaj-kofe-kakao/kofe?from=under_search&page=16' scraped\n",
            "Page 'https://online.metro-cc.ru/category/chaj-kofe-kakao/kofe?from=under_search&page=17' scraped\n",
            "Scraped all data, totally 2744\n"
          ]
        }
      ]
    },
    {
      "cell_type": "markdown",
      "source": [
        "# Сохраняем датафрейм"
      ],
      "metadata": {
        "id": "cF1dhNpqpA4E"
      }
    },
    {
      "cell_type": "code",
      "source": [
        "df = pd.DataFrame.from_dict(data)\n",
        "df"
      ],
      "metadata": {
        "colab": {
          "base_uri": "https://localhost:8080/",
          "height": 424
        },
        "id": "_FA8v4XdNS3A",
        "outputId": "fd51769c-27a4-49d6-a1bc-942a9dda0f6f"
      },
      "execution_count": 506,
      "outputs": [
        {
          "output_type": "execute_result",
          "data": {
            "text/plain": [
              "     product_id                                              title  \\\n",
              "0        642122  Кофе Nescafe Gold растворимый сублимированный ...   \n",
              "1        122743  Кофе Nescafe Gold растворимый сублимированный ...   \n",
              "2        407889            Кофе Bushido Original растворимый, 100г   \n",
              "3        287768  RIOBA Кофе в зернах натуральный жареный 100% а...   \n",
              "4        580564  Кофе Egoiste Arabica Premium натуральный жарен...   \n",
              "..          ...                                                ...   \n",
              "387      117382  Кофе в капсулах L’or Espresso Ristretto для ко...   \n",
              "388      616876            Кофе Egoiste Noir молотый, 250г x 12 шт   \n",
              "389      247918  Кофе Poetti Professional Aroma Vending зерново...   \n",
              "390      117361  Кофе в капсулах L’or Espresso Lungo Profondo д...   \n",
              "391      117381  Кофе в капсулах L’or Espresso Splendente для к...   \n",
              "\n",
              "                                                  link  onlineRegular  \\\n",
              "0    /products/nescafe-s-dobavleniem-naturalnogo-zh...           2399   \n",
              "1    /products/kofe-nescafe-gold-rastvorimiy-sublim...           2269   \n",
              "2      /products/bushido-sublimirovannyj-original-100g            899   \n",
              "3    /products/rioba-v-zernah-naturalnyj-zharenyj-1...           1529   \n",
              "4    /products/egoiste-v-zernah-naturalnyj-zharenyj...           2099   \n",
              "..                                                 ...            ...   \n",
              "387                  /products/52g-l-rsquoor-ristretto           3990   \n",
              "388                        /products/egoiste-noir-250g           8028   \n",
              "389  /products/1kg-kofe-poetti-professional-aroma-v...           1279   \n",
              "390             /products/52g-l-rsquoor-lungo-profondo           3990   \n",
              "391             /products/52g-l-rsquoor-espr-splendent           3990   \n",
              "\n",
              "     onlineDiscount                       prices_shop       brand  \n",
              "0              1599                 [(1599, от 1 шт)]   (NESCAF,)  \n",
              "1              1899                 [(1799, от 1 шт)]   (NESCAF,)  \n",
              "2               649  [(589, от 1 шт), (535, от 6 шт)]  (BUSHIDO,)  \n",
              "3              1199                 [(1199, от 1 шт)]    (RIOBA,)  \n",
              "4              1499                 [(1599, от 1 шт)]  (EGOISTE,)  \n",
              "..              ...                               ...         ...  \n",
              "387               0                 [(3190, от 1 уп)]     (L'OR,)  \n",
              "388               0                 [(4788, от 1 уп)]  (EGOISTE,)  \n",
              "389             999                  [(999, от 1 шт)]   (POETTI,)  \n",
              "390               0                 [(3190, от 1 уп)]     (L'OR,)  \n",
              "391               0                 [(3190, от 1 уп)]     (L'OR,)  \n",
              "\n",
              "[392 rows x 7 columns]"
            ],
            "text/html": [
              "\n",
              "  <div id=\"df-9290f926-228f-4a43-9135-b20db608f2b1\" class=\"colab-df-container\">\n",
              "    <div>\n",
              "<style scoped>\n",
              "    .dataframe tbody tr th:only-of-type {\n",
              "        vertical-align: middle;\n",
              "    }\n",
              "\n",
              "    .dataframe tbody tr th {\n",
              "        vertical-align: top;\n",
              "    }\n",
              "\n",
              "    .dataframe thead th {\n",
              "        text-align: right;\n",
              "    }\n",
              "</style>\n",
              "<table border=\"1\" class=\"dataframe\">\n",
              "  <thead>\n",
              "    <tr style=\"text-align: right;\">\n",
              "      <th></th>\n",
              "      <th>product_id</th>\n",
              "      <th>title</th>\n",
              "      <th>link</th>\n",
              "      <th>onlineRegular</th>\n",
              "      <th>onlineDiscount</th>\n",
              "      <th>prices_shop</th>\n",
              "      <th>brand</th>\n",
              "    </tr>\n",
              "  </thead>\n",
              "  <tbody>\n",
              "    <tr>\n",
              "      <th>0</th>\n",
              "      <td>642122</td>\n",
              "      <td>Кофе Nescafe Gold растворимый сублимированный ...</td>\n",
              "      <td>/products/nescafe-s-dobavleniem-naturalnogo-zh...</td>\n",
              "      <td>2399</td>\n",
              "      <td>1599</td>\n",
              "      <td>[(1599, от 1 шт)]</td>\n",
              "      <td>(NESCAF,)</td>\n",
              "    </tr>\n",
              "    <tr>\n",
              "      <th>1</th>\n",
              "      <td>122743</td>\n",
              "      <td>Кофе Nescafe Gold растворимый сублимированный ...</td>\n",
              "      <td>/products/kofe-nescafe-gold-rastvorimiy-sublim...</td>\n",
              "      <td>2269</td>\n",
              "      <td>1899</td>\n",
              "      <td>[(1799, от 1 шт)]</td>\n",
              "      <td>(NESCAF,)</td>\n",
              "    </tr>\n",
              "    <tr>\n",
              "      <th>2</th>\n",
              "      <td>407889</td>\n",
              "      <td>Кофе Bushido Original растворимый, 100г</td>\n",
              "      <td>/products/bushido-sublimirovannyj-original-100g</td>\n",
              "      <td>899</td>\n",
              "      <td>649</td>\n",
              "      <td>[(589, от 1 шт), (535, от 6 шт)]</td>\n",
              "      <td>(BUSHIDO,)</td>\n",
              "    </tr>\n",
              "    <tr>\n",
              "      <th>3</th>\n",
              "      <td>287768</td>\n",
              "      <td>RIOBA Кофе в зернах натуральный жареный 100% а...</td>\n",
              "      <td>/products/rioba-v-zernah-naturalnyj-zharenyj-1...</td>\n",
              "      <td>1529</td>\n",
              "      <td>1199</td>\n",
              "      <td>[(1199, от 1 шт)]</td>\n",
              "      <td>(RIOBA,)</td>\n",
              "    </tr>\n",
              "    <tr>\n",
              "      <th>4</th>\n",
              "      <td>580564</td>\n",
              "      <td>Кофе Egoiste Arabica Premium натуральный жарен...</td>\n",
              "      <td>/products/egoiste-v-zernah-naturalnyj-zharenyj...</td>\n",
              "      <td>2099</td>\n",
              "      <td>1499</td>\n",
              "      <td>[(1599, от 1 шт)]</td>\n",
              "      <td>(EGOISTE,)</td>\n",
              "    </tr>\n",
              "    <tr>\n",
              "      <th>...</th>\n",
              "      <td>...</td>\n",
              "      <td>...</td>\n",
              "      <td>...</td>\n",
              "      <td>...</td>\n",
              "      <td>...</td>\n",
              "      <td>...</td>\n",
              "      <td>...</td>\n",
              "    </tr>\n",
              "    <tr>\n",
              "      <th>387</th>\n",
              "      <td>117382</td>\n",
              "      <td>Кофе в капсулах L’or Espresso Ristretto для ко...</td>\n",
              "      <td>/products/52g-l-rsquoor-ristretto</td>\n",
              "      <td>3990</td>\n",
              "      <td>0</td>\n",
              "      <td>[(3190, от 1 уп)]</td>\n",
              "      <td>(L'OR,)</td>\n",
              "    </tr>\n",
              "    <tr>\n",
              "      <th>388</th>\n",
              "      <td>616876</td>\n",
              "      <td>Кофе Egoiste Noir молотый, 250г x 12 шт</td>\n",
              "      <td>/products/egoiste-noir-250g</td>\n",
              "      <td>8028</td>\n",
              "      <td>0</td>\n",
              "      <td>[(4788, от 1 уп)]</td>\n",
              "      <td>(EGOISTE,)</td>\n",
              "    </tr>\n",
              "    <tr>\n",
              "      <th>389</th>\n",
              "      <td>247918</td>\n",
              "      <td>Кофе Poetti Professional Aroma Vending зерново...</td>\n",
              "      <td>/products/1kg-kofe-poetti-professional-aroma-v...</td>\n",
              "      <td>1279</td>\n",
              "      <td>999</td>\n",
              "      <td>[(999, от 1 шт)]</td>\n",
              "      <td>(POETTI,)</td>\n",
              "    </tr>\n",
              "    <tr>\n",
              "      <th>390</th>\n",
              "      <td>117361</td>\n",
              "      <td>Кофе в капсулах L’or Espresso Lungo Profondo д...</td>\n",
              "      <td>/products/52g-l-rsquoor-lungo-profondo</td>\n",
              "      <td>3990</td>\n",
              "      <td>0</td>\n",
              "      <td>[(3190, от 1 уп)]</td>\n",
              "      <td>(L'OR,)</td>\n",
              "    </tr>\n",
              "    <tr>\n",
              "      <th>391</th>\n",
              "      <td>117381</td>\n",
              "      <td>Кофе в капсулах L’or Espresso Splendente для к...</td>\n",
              "      <td>/products/52g-l-rsquoor-espr-splendent</td>\n",
              "      <td>3990</td>\n",
              "      <td>0</td>\n",
              "      <td>[(3190, от 1 уп)]</td>\n",
              "      <td>(L'OR,)</td>\n",
              "    </tr>\n",
              "  </tbody>\n",
              "</table>\n",
              "<p>392 rows × 7 columns</p>\n",
              "</div>\n",
              "    <div class=\"colab-df-buttons\">\n",
              "\n",
              "  <div class=\"colab-df-container\">\n",
              "    <button class=\"colab-df-convert\" onclick=\"convertToInteractive('df-9290f926-228f-4a43-9135-b20db608f2b1')\"\n",
              "            title=\"Convert this dataframe to an interactive table.\"\n",
              "            style=\"display:none;\">\n",
              "\n",
              "  <svg xmlns=\"http://www.w3.org/2000/svg\" height=\"24px\" viewBox=\"0 -960 960 960\">\n",
              "    <path d=\"M120-120v-720h720v720H120Zm60-500h600v-160H180v160Zm220 220h160v-160H400v160Zm0 220h160v-160H400v160ZM180-400h160v-160H180v160Zm440 0h160v-160H620v160ZM180-180h160v-160H180v160Zm440 0h160v-160H620v160Z\"/>\n",
              "  </svg>\n",
              "    </button>\n",
              "\n",
              "  <style>\n",
              "    .colab-df-container {\n",
              "      display:flex;\n",
              "      gap: 12px;\n",
              "    }\n",
              "\n",
              "    .colab-df-convert {\n",
              "      background-color: #E8F0FE;\n",
              "      border: none;\n",
              "      border-radius: 50%;\n",
              "      cursor: pointer;\n",
              "      display: none;\n",
              "      fill: #1967D2;\n",
              "      height: 32px;\n",
              "      padding: 0 0 0 0;\n",
              "      width: 32px;\n",
              "    }\n",
              "\n",
              "    .colab-df-convert:hover {\n",
              "      background-color: #E2EBFA;\n",
              "      box-shadow: 0px 1px 2px rgba(60, 64, 67, 0.3), 0px 1px 3px 1px rgba(60, 64, 67, 0.15);\n",
              "      fill: #174EA6;\n",
              "    }\n",
              "\n",
              "    .colab-df-buttons div {\n",
              "      margin-bottom: 4px;\n",
              "    }\n",
              "\n",
              "    [theme=dark] .colab-df-convert {\n",
              "      background-color: #3B4455;\n",
              "      fill: #D2E3FC;\n",
              "    }\n",
              "\n",
              "    [theme=dark] .colab-df-convert:hover {\n",
              "      background-color: #434B5C;\n",
              "      box-shadow: 0px 1px 3px 1px rgba(0, 0, 0, 0.15);\n",
              "      filter: drop-shadow(0px 1px 2px rgba(0, 0, 0, 0.3));\n",
              "      fill: #FFFFFF;\n",
              "    }\n",
              "  </style>\n",
              "\n",
              "    <script>\n",
              "      const buttonEl =\n",
              "        document.querySelector('#df-9290f926-228f-4a43-9135-b20db608f2b1 button.colab-df-convert');\n",
              "      buttonEl.style.display =\n",
              "        google.colab.kernel.accessAllowed ? 'block' : 'none';\n",
              "\n",
              "      async function convertToInteractive(key) {\n",
              "        const element = document.querySelector('#df-9290f926-228f-4a43-9135-b20db608f2b1');\n",
              "        const dataTable =\n",
              "          await google.colab.kernel.invokeFunction('convertToInteractive',\n",
              "                                                    [key], {});\n",
              "        if (!dataTable) return;\n",
              "\n",
              "        const docLinkHtml = 'Like what you see? Visit the ' +\n",
              "          '<a target=\"_blank\" href=https://colab.research.google.com/notebooks/data_table.ipynb>data table notebook</a>'\n",
              "          + ' to learn more about interactive tables.';\n",
              "        element.innerHTML = '';\n",
              "        dataTable['output_type'] = 'display_data';\n",
              "        await google.colab.output.renderOutput(dataTable, element);\n",
              "        const docLink = document.createElement('div');\n",
              "        docLink.innerHTML = docLinkHtml;\n",
              "        element.appendChild(docLink);\n",
              "      }\n",
              "    </script>\n",
              "  </div>\n",
              "\n",
              "\n",
              "<div id=\"df-3acb04dd-cc81-4b1f-8289-5dce124a2562\">\n",
              "  <button class=\"colab-df-quickchart\" onclick=\"quickchart('df-3acb04dd-cc81-4b1f-8289-5dce124a2562')\"\n",
              "            title=\"Suggest charts\"\n",
              "            style=\"display:none;\">\n",
              "\n",
              "<svg xmlns=\"http://www.w3.org/2000/svg\" height=\"24px\"viewBox=\"0 0 24 24\"\n",
              "     width=\"24px\">\n",
              "    <g>\n",
              "        <path d=\"M19 3H5c-1.1 0-2 .9-2 2v14c0 1.1.9 2 2 2h14c1.1 0 2-.9 2-2V5c0-1.1-.9-2-2-2zM9 17H7v-7h2v7zm4 0h-2V7h2v10zm4 0h-2v-4h2v4z\"/>\n",
              "    </g>\n",
              "</svg>\n",
              "  </button>\n",
              "\n",
              "<style>\n",
              "  .colab-df-quickchart {\n",
              "      --bg-color: #E8F0FE;\n",
              "      --fill-color: #1967D2;\n",
              "      --hover-bg-color: #E2EBFA;\n",
              "      --hover-fill-color: #174EA6;\n",
              "      --disabled-fill-color: #AAA;\n",
              "      --disabled-bg-color: #DDD;\n",
              "  }\n",
              "\n",
              "  [theme=dark] .colab-df-quickchart {\n",
              "      --bg-color: #3B4455;\n",
              "      --fill-color: #D2E3FC;\n",
              "      --hover-bg-color: #434B5C;\n",
              "      --hover-fill-color: #FFFFFF;\n",
              "      --disabled-bg-color: #3B4455;\n",
              "      --disabled-fill-color: #666;\n",
              "  }\n",
              "\n",
              "  .colab-df-quickchart {\n",
              "    background-color: var(--bg-color);\n",
              "    border: none;\n",
              "    border-radius: 50%;\n",
              "    cursor: pointer;\n",
              "    display: none;\n",
              "    fill: var(--fill-color);\n",
              "    height: 32px;\n",
              "    padding: 0;\n",
              "    width: 32px;\n",
              "  }\n",
              "\n",
              "  .colab-df-quickchart:hover {\n",
              "    background-color: var(--hover-bg-color);\n",
              "    box-shadow: 0 1px 2px rgba(60, 64, 67, 0.3), 0 1px 3px 1px rgba(60, 64, 67, 0.15);\n",
              "    fill: var(--button-hover-fill-color);\n",
              "  }\n",
              "\n",
              "  .colab-df-quickchart-complete:disabled,\n",
              "  .colab-df-quickchart-complete:disabled:hover {\n",
              "    background-color: var(--disabled-bg-color);\n",
              "    fill: var(--disabled-fill-color);\n",
              "    box-shadow: none;\n",
              "  }\n",
              "\n",
              "  .colab-df-spinner {\n",
              "    border: 2px solid var(--fill-color);\n",
              "    border-color: transparent;\n",
              "    border-bottom-color: var(--fill-color);\n",
              "    animation:\n",
              "      spin 1s steps(1) infinite;\n",
              "  }\n",
              "\n",
              "  @keyframes spin {\n",
              "    0% {\n",
              "      border-color: transparent;\n",
              "      border-bottom-color: var(--fill-color);\n",
              "      border-left-color: var(--fill-color);\n",
              "    }\n",
              "    20% {\n",
              "      border-color: transparent;\n",
              "      border-left-color: var(--fill-color);\n",
              "      border-top-color: var(--fill-color);\n",
              "    }\n",
              "    30% {\n",
              "      border-color: transparent;\n",
              "      border-left-color: var(--fill-color);\n",
              "      border-top-color: var(--fill-color);\n",
              "      border-right-color: var(--fill-color);\n",
              "    }\n",
              "    40% {\n",
              "      border-color: transparent;\n",
              "      border-right-color: var(--fill-color);\n",
              "      border-top-color: var(--fill-color);\n",
              "    }\n",
              "    60% {\n",
              "      border-color: transparent;\n",
              "      border-right-color: var(--fill-color);\n",
              "    }\n",
              "    80% {\n",
              "      border-color: transparent;\n",
              "      border-right-color: var(--fill-color);\n",
              "      border-bottom-color: var(--fill-color);\n",
              "    }\n",
              "    90% {\n",
              "      border-color: transparent;\n",
              "      border-bottom-color: var(--fill-color);\n",
              "    }\n",
              "  }\n",
              "</style>\n",
              "\n",
              "  <script>\n",
              "    async function quickchart(key) {\n",
              "      const quickchartButtonEl =\n",
              "        document.querySelector('#' + key + ' button');\n",
              "      quickchartButtonEl.disabled = true;  // To prevent multiple clicks.\n",
              "      quickchartButtonEl.classList.add('colab-df-spinner');\n",
              "      try {\n",
              "        const charts = await google.colab.kernel.invokeFunction(\n",
              "            'suggestCharts', [key], {});\n",
              "      } catch (error) {\n",
              "        console.error('Error during call to suggestCharts:', error);\n",
              "      }\n",
              "      quickchartButtonEl.classList.remove('colab-df-spinner');\n",
              "      quickchartButtonEl.classList.add('colab-df-quickchart-complete');\n",
              "    }\n",
              "    (() => {\n",
              "      let quickchartButtonEl =\n",
              "        document.querySelector('#df-3acb04dd-cc81-4b1f-8289-5dce124a2562 button');\n",
              "      quickchartButtonEl.style.display =\n",
              "        google.colab.kernel.accessAllowed ? 'block' : 'none';\n",
              "    })();\n",
              "  </script>\n",
              "</div>\n",
              "    </div>\n",
              "  </div>\n"
            ],
            "application/vnd.google.colaboratory.intrinsic+json": {
              "type": "dataframe",
              "variable_name": "df",
              "summary": "{\n  \"name\": \"df\",\n  \"rows\": 392,\n  \"fields\": [\n    {\n      \"column\": \"product_id\",\n      \"properties\": {\n        \"dtype\": \"number\",\n        \"std\": 174429,\n        \"min\": 8352,\n        \"max\": 666415,\n        \"num_unique_values\": 392,\n        \"samples\": [\n          230300,\n          229162,\n          229159\n        ],\n        \"semantic_type\": \"\",\n        \"description\": \"\"\n      }\n    },\n    {\n      \"column\": \"title\",\n      \"properties\": {\n        \"dtype\": \"string\",\n        \"num_unique_values\": 389,\n        \"samples\": [\n          \"\\u041a\\u043e\\u0444\\u0435 D'Arte Light \\u0440\\u0430\\u0441\\u0442\\u0432\\u043e\\u0440\\u0438\\u043c\\u044b\\u0439, 100\\u0433\",\n          \"\\u041a\\u043e\\u0444\\u0435 Julius Meinl \\u041f\\u0440\\u0435\\u0437\\u0438\\u0434\\u0435\\u043d\\u0442 \\u0432 \\u0437\\u0435\\u0440\\u043d\\u0430\\u0445, 500\\u0433\",\n          \"\\u041a\\u043e\\u0444\\u0435 Egoiste Very Special \\u0440\\u0430\\u0441\\u0442\\u0432\\u043e\\u0440\\u0438\\u043c\\u044b\\u0439 \\u0441\\u0443\\u0431\\u043b\\u0438\\u043c\\u0438\\u0440\\u043e\\u0432\\u0430\\u043d\\u043d\\u044b\\u0439, 100\\u0433\"\n        ],\n        \"semantic_type\": \"\",\n        \"description\": \"\"\n      }\n    },\n    {\n      \"column\": \"link\",\n      \"properties\": {\n        \"dtype\": \"string\",\n        \"num_unique_values\": 392,\n        \"samples\": [\n          \"/products/kofe-monarch-velour-rastvorimyy-95g\",\n          \"/products/150g-kofe-tchibo-gold-selection-rastvorimyy\",\n          \"/products/95g-kofe-tchibo-gold-selection-rastvorimyy-stb\"\n        ],\n        \"semantic_type\": \"\",\n        \"description\": \"\"\n      }\n    },\n    {\n      \"column\": \"onlineRegular\",\n      \"properties\": {\n        \"dtype\": \"number\",\n        \"std\": 1234,\n        \"min\": 130,\n        \"max\": 12594,\n        \"num_unique_values\": 169,\n        \"samples\": [\n          1839,\n          2219,\n          409\n        ],\n        \"semantic_type\": \"\",\n        \"description\": \"\"\n      }\n    },\n    {\n      \"column\": \"onlineDiscount\",\n      \"properties\": {\n        \"dtype\": \"number\",\n        \"std\": 569,\n        \"min\": 0,\n        \"max\": 2499,\n        \"num_unique_values\": 93,\n        \"samples\": [\n          599,\n          0,\n          639\n        ],\n        \"semantic_type\": \"\",\n        \"description\": \"\"\n      }\n    },\n    {\n      \"column\": \"prices_shop\",\n      \"properties\": {\n        \"dtype\": \"object\",\n        \"semantic_type\": \"\",\n        \"description\": \"\"\n      }\n    },\n    {\n      \"column\": \"brand\",\n      \"properties\": {\n        \"dtype\": \"category\",\n        \"num_unique_values\": 41,\n        \"samples\": [\n          [\n            \"MISCELAD'ORO\"\n          ],\n          [\n            \"POETTI\"\n          ],\n          [\n            \"MONARCH\"\n          ]\n        ],\n        \"semantic_type\": \"\",\n        \"description\": \"\"\n      }\n    }\n  ]\n}"
            }
          },
          "metadata": {},
          "execution_count": 506
        }
      ]
    },
    {
      "cell_type": "code",
      "source": [
        "df.to_csv(\"products.csv\")"
      ],
      "metadata": {
        "id": "wZh7RDWSV9bD"
      },
      "execution_count": 507,
      "outputs": []
    },
    {
      "cell_type": "code",
      "source": [
        "!pip freeze"
      ],
      "metadata": {
        "colab": {
          "base_uri": "https://localhost:8080/"
        },
        "id": "aZjsKcPPNxV5",
        "outputId": "1b5d8c65-f4d1-43c2-e43f-c2bc37776c5a"
      },
      "execution_count": 508,
      "outputs": [
        {
          "output_type": "stream",
          "name": "stdout",
          "text": [
            "absl-py==1.4.0\n",
            "aiohttp==3.9.5\n",
            "aiosignal==1.3.1\n",
            "alabaster==0.7.16\n",
            "albumentations==1.3.1\n",
            "altair==4.2.2\n",
            "annotated-types==0.6.0\n",
            "anyio==3.7.1\n",
            "appdirs==1.4.4\n",
            "argon2-cffi==23.1.0\n",
            "argon2-cffi-bindings==21.2.0\n",
            "array_record==0.5.1\n",
            "arviz==0.15.1\n",
            "astropy==5.3.4\n",
            "astunparse==1.6.3\n",
            "async-timeout==4.0.3\n",
            "atpublic==4.1.0\n",
            "attrs==23.2.0\n",
            "audioread==3.0.1\n",
            "autograd==1.6.2\n",
            "Babel==2.15.0\n",
            "backcall==0.2.0\n",
            "beautifulsoup4==4.12.3\n",
            "bidict==0.23.1\n",
            "bigframes==1.5.0\n",
            "bleach==6.1.0\n",
            "blinker==1.4\n",
            "blis==0.7.11\n",
            "blosc2==2.0.0\n",
            "bokeh==3.3.4\n",
            "bqplot==0.12.43\n",
            "branca==0.7.2\n",
            "build==1.2.1\n",
            "CacheControl==0.14.0\n",
            "cachetools==5.3.3\n",
            "catalogue==2.0.10\n",
            "certifi==2024.2.2\n",
            "cffi==1.16.0\n",
            "chardet==5.2.0\n",
            "charset-normalizer==3.3.2\n",
            "chex==0.1.86\n",
            "click==8.1.7\n",
            "click-plugins==1.1.1\n",
            "cligj==0.7.2\n",
            "cloudpathlib==0.16.0\n",
            "cloudpickle==2.2.1\n",
            "cmake==3.27.9\n",
            "cmdstanpy==1.2.2\n",
            "colorcet==3.1.0\n",
            "colorlover==0.3.0\n",
            "colour==0.1.5\n",
            "community==1.0.0b1\n",
            "confection==0.1.4\n",
            "cons==0.4.6\n",
            "contextlib2==21.6.0\n",
            "contourpy==1.2.1\n",
            "cryptography==42.0.7\n",
            "cuda-python==12.2.1\n",
            "cudf-cu12 @ https://pypi.nvidia.com/cudf-cu12/cudf_cu12-24.4.1-cp310-cp310-manylinux_2_28_x86_64.whl#sha256=57366e7ef09dc63e0b389aff20df6c37d91e2790065861ee31a4720149f5b694\n",
            "cufflinks==0.17.3\n",
            "cupy-cuda12x==12.2.0\n",
            "cvxopt==1.3.2\n",
            "cvxpy==1.3.4\n",
            "cycler==0.12.1\n",
            "cymem==2.0.8\n",
            "Cython==3.0.10\n",
            "dask==2023.8.1\n",
            "datascience==0.17.6\n",
            "db-dtypes==1.2.0\n",
            "dbus-python==1.2.18\n",
            "debugpy==1.6.6\n",
            "decorator==4.4.2\n",
            "defusedxml==0.7.1\n",
            "distributed==2023.8.1\n",
            "distro==1.7.0\n",
            "dlib==19.24.4\n",
            "dm-tree==0.1.8\n",
            "docstring_parser==0.16\n",
            "docutils==0.18.1\n",
            "dopamine_rl==4.0.9\n",
            "duckdb==0.10.2\n",
            "earthengine-api==0.1.401\n",
            "easydict==1.13\n",
            "ecos==2.0.13\n",
            "editdistance==0.6.2\n",
            "eerepr==0.0.4\n",
            "en-core-web-sm @ https://github.com/explosion/spacy-models/releases/download/en_core_web_sm-3.7.1/en_core_web_sm-3.7.1-py3-none-any.whl#sha256=86cc141f63942d4b2c5fcee06630fd6f904788d2f0ab005cce45aadb8fb73889\n",
            "entrypoints==0.4\n",
            "et-xmlfile==1.1.0\n",
            "etils==1.7.0\n",
            "etuples==0.3.9\n",
            "exceptiongroup==1.2.1\n",
            "fastai==2.7.15\n",
            "fastcore==1.5.33\n",
            "fastdownload==0.0.7\n",
            "fastjsonschema==2.19.1\n",
            "fastprogress==1.0.3\n",
            "fastrlock==0.8.2\n",
            "filelock==3.14.0\n",
            "fiona==1.9.6\n",
            "firebase-admin==5.3.0\n",
            "Flask==2.2.5\n",
            "flatbuffers==24.3.25\n",
            "flax==0.8.3\n",
            "folium==0.14.0\n",
            "fonttools==4.51.0\n",
            "frozendict==2.4.4\n",
            "frozenlist==1.4.1\n",
            "fsspec==2023.6.0\n",
            "future==0.18.3\n",
            "gast==0.5.4\n",
            "gcsfs==2023.6.0\n",
            "GDAL==3.6.4\n",
            "gdown==5.1.0\n",
            "geemap==0.32.1\n",
            "gensim==4.3.2\n",
            "geocoder==1.38.1\n",
            "geographiclib==2.0\n",
            "geopandas==0.13.2\n",
            "geopy==2.3.0\n",
            "gin-config==0.5.0\n",
            "glob2==0.7\n",
            "google==2.0.3\n",
            "google-ai-generativelanguage==0.6.2\n",
            "google-api-core==2.11.1\n",
            "google-api-python-client==2.84.0\n",
            "google-auth==2.27.0\n",
            "google-auth-httplib2==0.1.1\n",
            "google-auth-oauthlib==1.2.0\n",
            "google-cloud-aiplatform==1.48.0\n",
            "google-cloud-bigquery==3.21.0\n",
            "google-cloud-bigquery-connection==1.12.1\n",
            "google-cloud-bigquery-storage==2.25.0\n",
            "google-cloud-core==2.3.3\n",
            "google-cloud-datastore==2.15.2\n",
            "google-cloud-firestore==2.11.1\n",
            "google-cloud-functions==1.13.3\n",
            "google-cloud-iam==2.15.0\n",
            "google-cloud-language==2.13.3\n",
            "google-cloud-resource-manager==1.12.3\n",
            "google-cloud-storage==2.8.0\n",
            "google-cloud-translate==3.11.3\n",
            "google-colab @ file:///colabtools/dist/google-colab-1.0.0.tar.gz#sha256=0258e83b807f4eef80868abeb3875274761525acb14418952b8f1236ab02e6fc\n",
            "google-crc32c==1.5.0\n",
            "google-generativeai==0.5.2\n",
            "google-pasta==0.2.0\n",
            "google-resumable-media==2.7.0\n",
            "googleapis-common-protos==1.63.0\n",
            "googledrivedownloader==0.4\n",
            "graphviz==0.20.3\n",
            "greenlet==3.0.3\n",
            "grpc-google-iam-v1==0.13.0\n",
            "grpcio==1.63.0\n",
            "grpcio-status==1.48.2\n",
            "gspread==6.0.2\n",
            "gspread-dataframe==3.3.1\n",
            "gym==0.25.2\n",
            "gym-notices==0.0.8\n",
            "h11==0.14.0\n",
            "h5netcdf==1.3.0\n",
            "h5py==3.9.0\n",
            "holidays==0.48\n",
            "holoviews==1.17.1\n",
            "html5lib==1.1\n",
            "httpimport==1.3.1\n",
            "httplib2==0.22.0\n",
            "huggingface-hub==0.20.3\n",
            "humanize==4.7.0\n",
            "hyperopt==0.2.7\n",
            "ibis-framework==8.0.0\n",
            "idna==3.7\n",
            "imageio==2.31.6\n",
            "imageio-ffmpeg==0.4.9\n",
            "imagesize==1.4.1\n",
            "imbalanced-learn==0.10.1\n",
            "imgaug==0.4.0\n",
            "importlib_metadata==7.1.0\n",
            "importlib_resources==6.4.0\n",
            "imutils==0.5.4\n",
            "inflect==7.0.0\n",
            "iniconfig==2.0.0\n",
            "intel-openmp==2023.2.4\n",
            "ipyevents==2.0.2\n",
            "ipyfilechooser==0.6.0\n",
            "ipykernel==5.5.6\n",
            "ipyleaflet==0.18.2\n",
            "ipython==7.34.0\n",
            "ipython-genutils==0.2.0\n",
            "ipython-sql==0.5.0\n",
            "ipytree==0.2.2\n",
            "ipywidgets==7.7.1\n",
            "itsdangerous==2.2.0\n",
            "jax==0.4.26\n",
            "jaxlib @ https://storage.googleapis.com/jax-releases/cuda12/jaxlib-0.4.26+cuda12.cudnn89-cp310-cp310-manylinux2014_x86_64.whl#sha256=813cf1fe3e7ca4dbf5327d6e7b4fc8521e92d8bba073ee645ae0d5d036a25750\n",
            "jeepney==0.7.1\n",
            "jieba==0.42.1\n",
            "Jinja2==3.1.4\n",
            "joblib==1.4.2\n",
            "jsonpickle==3.0.4\n",
            "jsonschema==4.19.2\n",
            "jsonschema-specifications==2023.12.1\n",
            "jupyter-client==6.1.12\n",
            "jupyter-console==6.1.0\n",
            "jupyter-server==1.24.0\n",
            "jupyter_core==5.7.2\n",
            "jupyterlab_pygments==0.3.0\n",
            "jupyterlab_widgets==3.0.10\n",
            "kaggle==1.6.12\n",
            "kagglehub==0.2.5\n",
            "keras==2.15.0\n",
            "keyring==23.5.0\n",
            "kiwisolver==1.4.5\n",
            "langcodes==3.4.0\n",
            "language_data==1.2.0\n",
            "launchpadlib==1.10.16\n",
            "lazr.restfulclient==0.14.4\n",
            "lazr.uri==1.0.6\n",
            "lazy_loader==0.4\n",
            "libclang==18.1.1\n",
            "librosa==0.10.2\n",
            "lightgbm==4.1.0\n",
            "linkify-it-py==2.0.3\n",
            "llvmlite==0.41.1\n",
            "locket==1.0.0\n",
            "logical-unification==0.4.6\n",
            "lxml==4.9.4\n",
            "malloy==2023.1067\n",
            "marisa-trie==1.1.1\n",
            "Markdown==3.6\n",
            "markdown-it-py==3.0.0\n",
            "MarkupSafe==2.1.5\n",
            "matplotlib==3.7.1\n",
            "matplotlib-inline==0.1.7\n",
            "matplotlib-venn==0.11.10\n",
            "mdit-py-plugins==0.4.0\n",
            "mdurl==0.1.2\n",
            "miniKanren==1.0.3\n",
            "missingno==0.5.2\n",
            "mistune==0.8.4\n",
            "mizani==0.9.3\n",
            "mkl==2023.2.0\n",
            "ml-dtypes==0.2.0\n",
            "mlxtend==0.22.0\n",
            "more-itertools==10.1.0\n",
            "moviepy==1.0.3\n",
            "mpmath==1.3.0\n",
            "msgpack==1.0.8\n",
            "multidict==6.0.5\n",
            "multipledispatch==1.0.0\n",
            "multitasking==0.0.11\n",
            "murmurhash==1.0.10\n",
            "music21==9.1.0\n",
            "natsort==8.4.0\n",
            "nbclassic==1.0.0\n",
            "nbclient==0.10.0\n",
            "nbconvert==6.5.4\n",
            "nbformat==5.10.4\n",
            "nest-asyncio==1.6.0\n",
            "networkx==3.3\n",
            "nibabel==4.0.2\n",
            "nltk==3.8.1\n",
            "notebook==6.5.5\n",
            "notebook_shim==0.2.4\n",
            "numba==0.58.1\n",
            "numexpr==2.10.0\n",
            "numpy==1.25.2\n",
            "nvtx==0.2.10\n",
            "oauth2client==4.1.3\n",
            "oauthlib==3.2.2\n",
            "opencv-contrib-python==4.8.0.76\n",
            "opencv-python==4.8.0.76\n",
            "opencv-python-headless==4.9.0.80\n",
            "openpyxl==3.1.2\n",
            "opt-einsum==3.3.0\n",
            "optax==0.2.2\n",
            "orbax-checkpoint==0.4.4\n",
            "osqp==0.6.2.post8\n",
            "outcome==1.3.0.post0\n",
            "packaging==24.0\n",
            "pandas==2.0.3\n",
            "pandas-datareader==0.10.0\n",
            "pandas-gbq==0.19.2\n",
            "pandas-stubs==2.0.3.230814\n",
            "pandocfilters==1.5.1\n",
            "panel==1.3.8\n",
            "param==2.1.0\n",
            "parso==0.8.4\n",
            "parsy==2.1\n",
            "partd==1.4.2\n",
            "pathlib==1.0.1\n",
            "patsy==0.5.6\n",
            "peewee==3.17.3\n",
            "pexpect==4.9.0\n",
            "pickleshare==0.7.5\n",
            "Pillow==9.4.0\n",
            "pip-tools==6.13.0\n",
            "platformdirs==4.2.1\n",
            "plotly==5.15.0\n",
            "plotnine==0.12.4\n",
            "pluggy==1.5.0\n",
            "polars==0.20.2\n",
            "pooch==1.8.1\n",
            "portpicker==1.5.2\n",
            "prefetch-generator==1.0.3\n",
            "preshed==3.0.9\n",
            "prettytable==3.10.0\n",
            "proglog==0.1.10\n",
            "progressbar2==4.2.0\n",
            "prometheus_client==0.20.0\n",
            "promise==2.3\n",
            "prompt-toolkit==3.0.43\n",
            "prophet==1.1.5\n",
            "proto-plus==1.23.0\n",
            "protobuf==3.20.3\n",
            "psutil==5.9.5\n",
            "psycopg2==2.9.9\n",
            "ptyprocess==0.7.0\n",
            "py-cpuinfo==9.0.0\n",
            "py4j==0.10.9.7\n",
            "pyarrow==14.0.2\n",
            "pyarrow-hotfix==0.6\n",
            "pyasn1==0.6.0\n",
            "pyasn1_modules==0.4.0\n",
            "pycocotools==2.0.7\n",
            "pycparser==2.22\n",
            "pydantic==2.7.1\n",
            "pydantic_core==2.18.2\n",
            "pydata-google-auth==1.8.2\n",
            "pydot==1.4.2\n",
            "pydot-ng==2.0.0\n",
            "pydotplus==2.0.2\n",
            "PyDrive==1.3.1\n",
            "PyDrive2==1.6.3\n",
            "pyerfa==2.0.1.4\n",
            "pygame==2.5.2\n",
            "Pygments==2.16.1\n",
            "PyGObject==3.42.1\n",
            "PyJWT==2.3.0\n",
            "pymc==5.10.4\n",
            "pymystem3==0.2.0\n",
            "pynvjitlink-cu12==0.2.3\n",
            "PyOpenGL==3.1.7\n",
            "pyOpenSSL==24.1.0\n",
            "pyparsing==3.1.2\n",
            "pyperclip==1.8.2\n",
            "pyproj==3.6.1\n",
            "pyproject_hooks==1.1.0\n",
            "pyshp==2.3.1\n",
            "PySocks==1.7.1\n",
            "pytensor==2.18.6\n",
            "pytest==7.4.4\n",
            "python-apt @ file:///backend-container/containers/python_apt-0.0.0-cp310-cp310-linux_x86_64.whl#sha256=b209c7165d6061963abe611492f8c91c3bcef4b7a6600f966bab58900c63fefa\n",
            "python-box==7.1.1\n",
            "python-dateutil==2.8.2\n",
            "python-louvain==0.16\n",
            "python-slugify==8.0.4\n",
            "python-utils==3.8.2\n",
            "pytz==2023.4\n",
            "pyviz_comms==3.0.2\n",
            "PyWavelets==1.6.0\n",
            "PyYAML==6.0.1\n",
            "pyzmq==24.0.1\n",
            "qdldl==0.1.7.post2\n",
            "qudida==0.0.4\n",
            "ratelim==0.1.6\n",
            "referencing==0.35.1\n",
            "regex==2023.12.25\n",
            "requests==2.31.0\n",
            "requests-oauthlib==1.3.1\n",
            "requirements-parser==0.9.0\n",
            "rich==13.7.1\n",
            "rmm-cu12==24.4.0\n",
            "rpds-py==0.18.1\n",
            "rpy2==3.4.2\n",
            "rsa==4.9\n",
            "safetensors==0.4.3\n",
            "scikit-image==0.19.3\n",
            "scikit-learn==1.2.2\n",
            "scipy==1.11.4\n",
            "scooby==0.10.0\n",
            "scs==3.2.4.post1\n",
            "seaborn==0.13.1\n",
            "SecretStorage==3.3.1\n",
            "selenium==4.20.0\n",
            "Send2Trash==1.8.3\n",
            "sentencepiece==0.1.99\n",
            "shapely==2.0.4\n",
            "six==1.16.0\n",
            "sklearn-pandas==2.2.0\n",
            "smart-open==6.4.0\n",
            "sniffio==1.3.1\n",
            "snowballstemmer==2.2.0\n",
            "sortedcontainers==2.4.0\n",
            "soundfile==0.12.1\n",
            "soupsieve==2.5\n",
            "soxr==0.3.7\n",
            "spacy==3.7.4\n",
            "spacy-legacy==3.0.12\n",
            "spacy-loggers==1.0.5\n",
            "Sphinx==5.0.2\n",
            "sphinxcontrib-applehelp==1.0.8\n",
            "sphinxcontrib-devhelp==1.0.6\n",
            "sphinxcontrib-htmlhelp==2.0.5\n",
            "sphinxcontrib-jsmath==1.0.1\n",
            "sphinxcontrib-qthelp==1.0.7\n",
            "sphinxcontrib-serializinghtml==1.1.10\n",
            "SQLAlchemy==2.0.30\n",
            "sqlglot==20.11.0\n",
            "sqlparse==0.5.0\n",
            "srsly==2.4.8\n",
            "stanio==0.5.0\n",
            "statsmodels==0.14.2\n",
            "StrEnum==0.4.15\n",
            "sympy==1.12\n",
            "tables==3.8.0\n",
            "tabulate==0.9.0\n",
            "tbb==2021.12.0\n",
            "tblib==3.0.0\n",
            "tenacity==8.3.0\n",
            "tensorboard==2.15.2\n",
            "tensorboard-data-server==0.7.2\n",
            "tensorflow @ https://storage.googleapis.com/colab-tf-builds-public-09h6ksrfwbb9g9xv/tensorflow-2.15.0-cp310-cp310-manylinux_2_17_x86_64.manylinux2014_x86_64.whl#sha256=a2ec79931350b378c1ef300ca836b52a55751acb71a433582508a07f0de57c42\n",
            "tensorflow-datasets==4.9.4\n",
            "tensorflow-estimator==2.15.0\n",
            "tensorflow-gcs-config==2.15.0\n",
            "tensorflow-hub==0.16.1\n",
            "tensorflow-io-gcs-filesystem==0.37.0\n",
            "tensorflow-metadata==1.15.0\n",
            "tensorflow-probability==0.23.0\n",
            "tensorstore==0.1.45\n",
            "termcolor==2.4.0\n",
            "terminado==0.18.1\n",
            "text-unidecode==1.3\n",
            "textblob==0.17.1\n",
            "tf-slim==1.1.0\n",
            "tf_keras==2.15.1\n",
            "thinc==8.2.3\n",
            "threadpoolctl==3.5.0\n",
            "tifffile==2024.5.3\n",
            "tinycss2==1.3.0\n",
            "tokenizers==0.19.1\n",
            "toml==0.10.2\n",
            "tomli==2.0.1\n",
            "toolz==0.12.1\n",
            "torch @ https://download.pytorch.org/whl/cu121/torch-2.2.1%2Bcu121-cp310-cp310-linux_x86_64.whl#sha256=1adf430f01ff649c848ac021785e18007b0714fdde68e4e65bd0c640bf3fb8e1\n",
            "torchaudio @ https://download.pytorch.org/whl/cu121/torchaudio-2.2.1%2Bcu121-cp310-cp310-linux_x86_64.whl#sha256=23f6236429e2bf676b820e8e7221a1d58aaf908bff2ba2665aa852df71a97961\n",
            "torchdata==0.7.1\n",
            "torchsummary==1.5.1\n",
            "torchtext==0.17.1\n",
            "torchvision @ https://download.pytorch.org/whl/cu121/torchvision-0.17.1%2Bcu121-cp310-cp310-linux_x86_64.whl#sha256=27af47915f6e762c1d44e58e8088d22ac97445668f9f793524032b2baf4f34bd\n",
            "tornado==6.3.3\n",
            "tqdm==4.66.4\n",
            "traitlets==5.7.1\n",
            "traittypes==0.2.1\n",
            "transformers==4.40.2\n",
            "trio==0.25.0\n",
            "trio-websocket==0.11.1\n",
            "triton==2.2.0\n",
            "tweepy==4.14.0\n",
            "typer==0.9.4\n",
            "types-pytz==2024.1.0.20240417\n",
            "types-setuptools==69.5.0.20240423\n",
            "typing_extensions==4.11.0\n",
            "tzdata==2024.1\n",
            "tzlocal==5.2\n",
            "uc-micro-py==1.0.3\n",
            "uritemplate==4.1.1\n",
            "urllib3==2.0.7\n",
            "vega-datasets==0.9.0\n",
            "wadllib==1.3.6\n",
            "wasabi==1.1.2\n",
            "wcwidth==0.2.13\n",
            "weasel==0.3.4\n",
            "webcolors==1.13\n",
            "webencodings==0.5.1\n",
            "websocket-client==1.8.0\n",
            "Werkzeug==3.0.3\n",
            "widgetsnbextension==3.6.6\n",
            "wordcloud==1.9.3\n",
            "wrapt==1.14.1\n",
            "wsproto==1.2.0\n",
            "xarray==2023.7.0\n",
            "xarray-einstats==0.7.0\n",
            "xgboost==2.0.3\n",
            "xlrd==2.0.1\n",
            "xyzservices==2024.4.0\n",
            "yarl==1.9.4\n",
            "yellowbrick==1.5\n",
            "yfinance==0.2.38\n",
            "zict==3.0.0\n",
            "zipp==3.18.1\n"
          ]
        }
      ]
    }
  ]
}