{
  "nbformat": 4,
  "nbformat_minor": 0,
  "metadata": {
    "colab": {
      "provenance": [],
      "collapsed_sections": [
        "7nwgMAlTddqG",
        "XOlRJIihdgBw",
        "ajcpWWxAeMxs",
        "b1yo-kiDolCW"
      ],
      "authorship_tag": "ABX9TyMjDqmsYon58hewc24huCIt",
      "include_colab_link": true
    },
    "kernelspec": {
      "name": "python3",
      "display_name": "Python 3"
    },
    "language_info": {
      "name": "python"
    }
  },
  "cells": [
    {
      "cell_type": "markdown",
      "metadata": {
        "id": "view-in-github",
        "colab_type": "text"
      },
      "source": [
        "<a href=\"https://colab.research.google.com/github/LudwigBitHoven/MillionAgents_testTask/blob/main/scrapers/testTask_4lapy_webscraper.ipynb\" target=\"_parent\"><img src=\"https://colab.research.google.com/assets/colab-badge.svg\" alt=\"Open In Colab\"/></a>"
      ]
    },
    {
      "cell_type": "markdown",
      "source": [
        "# Установим selenium"
      ],
      "metadata": {
        "id": "7nwgMAlTddqG"
      }
    },
    {
      "cell_type": "code",
      "source": [
        "!pip install selenium"
      ],
      "metadata": {
        "colab": {
          "base_uri": "https://localhost:8080/"
        },
        "id": "-gnPsADuD0Hq",
        "outputId": "9ad5ae62-eec6-4df6-b6dc-c556ecd74a76"
      },
      "execution_count": null,
      "outputs": [
        {
          "output_type": "stream",
          "name": "stdout",
          "text": [
            "Requirement already satisfied: selenium in /usr/local/lib/python3.10/dist-packages (4.20.0)\n",
            "Requirement already satisfied: urllib3[socks]<3,>=1.26 in /usr/local/lib/python3.10/dist-packages (from selenium) (2.0.7)\n",
            "Requirement already satisfied: trio~=0.17 in /usr/local/lib/python3.10/dist-packages (from selenium) (0.25.0)\n",
            "Requirement already satisfied: trio-websocket~=0.9 in /usr/local/lib/python3.10/dist-packages (from selenium) (0.11.1)\n",
            "Requirement already satisfied: certifi>=2021.10.8 in /usr/local/lib/python3.10/dist-packages (from selenium) (2024.2.2)\n",
            "Requirement already satisfied: typing_extensions>=4.9.0 in /usr/local/lib/python3.10/dist-packages (from selenium) (4.11.0)\n",
            "Requirement already satisfied: attrs>=23.2.0 in /usr/local/lib/python3.10/dist-packages (from trio~=0.17->selenium) (23.2.0)\n",
            "Requirement already satisfied: sortedcontainers in /usr/local/lib/python3.10/dist-packages (from trio~=0.17->selenium) (2.4.0)\n",
            "Requirement already satisfied: idna in /usr/local/lib/python3.10/dist-packages (from trio~=0.17->selenium) (3.7)\n",
            "Requirement already satisfied: outcome in /usr/local/lib/python3.10/dist-packages (from trio~=0.17->selenium) (1.3.0.post0)\n",
            "Requirement already satisfied: sniffio>=1.3.0 in /usr/local/lib/python3.10/dist-packages (from trio~=0.17->selenium) (1.3.1)\n",
            "Requirement already satisfied: exceptiongroup in /usr/local/lib/python3.10/dist-packages (from trio~=0.17->selenium) (1.2.1)\n",
            "Requirement already satisfied: wsproto>=0.14 in /usr/local/lib/python3.10/dist-packages (from trio-websocket~=0.9->selenium) (1.2.0)\n",
            "Requirement already satisfied: pysocks!=1.5.7,<2.0,>=1.5.6 in /usr/local/lib/python3.10/dist-packages (from urllib3[socks]<3,>=1.26->selenium) (1.7.1)\n",
            "Requirement already satisfied: h11<1,>=0.9.0 in /usr/local/lib/python3.10/dist-packages (from wsproto>=0.14->trio-websocket~=0.9->selenium) (0.14.0)\n"
          ]
        }
      ]
    },
    {
      "cell_type": "markdown",
      "source": [
        "# Импортируем и настроим джентльменский набор для скрапинга"
      ],
      "metadata": {
        "id": "XOlRJIihdgBw"
      }
    },
    {
      "cell_type": "code",
      "execution_count": null,
      "metadata": {
        "id": "sLljP1B-DvpK"
      },
      "outputs": [],
      "source": [
        "from bs4 import BeautifulSoup\n",
        "from selenium import webdriver\n",
        "import time\n",
        "import json\n",
        "import pandas as pd"
      ]
    },
    {
      "cell_type": "code",
      "source": [
        "from selenium import webdriver\n",
        "from selenium.webdriver.firefox.options import Options\n",
        "\n",
        "options = Options()\n",
        "# аргумент для работы с мобильной версией сайта\n",
        "options.add_argument('--user-agent=Mozilla/5.0 (iPhone; CPU iPhone OS 10_3 like Mac OS X) AppleWebKit/602.1.50 (KHTML, like Gecko) CriOS/56.0.2924.75 Mobile/14E5239e Safari/602.1')\n",
        "options.add_argument(\"start-maximized\")\n",
        "options.add_argument(\"--headless\")\n",
        "driver = webdriver.Firefox(options=options)"
      ],
      "metadata": {
        "id": "9VTcSM-zD7Yr"
      },
      "execution_count": null,
      "outputs": []
    },
    {
      "cell_type": "markdown",
      "source": [
        "# Посмотрим что на странице"
      ],
      "metadata": {
        "id": "ajcpWWxAeMxs"
      }
    },
    {
      "cell_type": "markdown",
      "source": [
        "Страница товара не имеет бесконечного скролла и товары распределены по отдельным url-ам вида\n",
        "\n",
        "\n",
        "\n",
        "> \"https://4lapy.ru/catalog/koshki/korm-koshki/sukhoy/?section_id=3&sort=popular&page=1\"\n",
        "\n",
        "\n",
        "#### Можно захардкодить скрапируемые адреса с товарами следующим образом, меняя лишь параметр page:\n"
      ],
      "metadata": {
        "id": "VqSgO2o4eQVm"
      }
    },
    {
      "cell_type": "code",
      "source": [
        "pages = []\n",
        "for i in range(1, 10):\n",
        "  pages.append(f\"https://4lapy.ru/catalog/koshki/korm-koshki/sukhoy/?section_id=3&sort=popular&page={i}\")\n",
        "pages"
      ],
      "metadata": {
        "colab": {
          "base_uri": "https://localhost:8080/"
        },
        "id": "y56gcHHjD9T-",
        "outputId": "16d19915-ad12-42d6-da01-38d2e08b1bc6"
      },
      "execution_count": null,
      "outputs": [
        {
          "output_type": "execute_result",
          "data": {
            "text/plain": [
              "['https://4lapy.ru/catalog/koshki/korm-koshki/sukhoy/?section_id=3&sort=popular&page=1',\n",
              " 'https://4lapy.ru/catalog/koshki/korm-koshki/sukhoy/?section_id=3&sort=popular&page=2',\n",
              " 'https://4lapy.ru/catalog/koshki/korm-koshki/sukhoy/?section_id=3&sort=popular&page=3',\n",
              " 'https://4lapy.ru/catalog/koshki/korm-koshki/sukhoy/?section_id=3&sort=popular&page=4',\n",
              " 'https://4lapy.ru/catalog/koshki/korm-koshki/sukhoy/?section_id=3&sort=popular&page=5',\n",
              " 'https://4lapy.ru/catalog/koshki/korm-koshki/sukhoy/?section_id=3&sort=popular&page=6',\n",
              " 'https://4lapy.ru/catalog/koshki/korm-koshki/sukhoy/?section_id=3&sort=popular&page=7',\n",
              " 'https://4lapy.ru/catalog/koshki/korm-koshki/sukhoy/?section_id=3&sort=popular&page=8',\n",
              " 'https://4lapy.ru/catalog/koshki/korm-koshki/sukhoy/?section_id=3&sort=popular&page=9']"
            ]
          },
          "metadata": {},
          "execution_count": 209
        }
      ]
    },
    {
      "cell_type": "markdown",
      "source": [
        "## А можно сделать лучше и спарсить количество страниц по указанному адресу категории товаров:"
      ],
      "metadata": {
        "id": "t7mca1Xle45b"
      }
    },
    {
      "cell_type": "code",
      "source": [
        "# категория \"сухой корм для кошек\"\n",
        "url = \"https://4lapy.ru/catalog/koshki/korm-koshki/sukhoy/\"\n",
        "driver.get(url)\n",
        "driver.execute_script(\"window.scrollTo(0, document.body.scrollHeight);\")\n",
        "time.sleep(3)\n",
        "html = driver.page_source\n",
        "soup = BeautifulSoup(html)\n",
        "# получаем все связанное с пагинацией\n",
        "pagination = soup.findAll(\"li\", class_=\"b-pagination__item\")\n",
        "pagination[6:]"
      ],
      "metadata": {
        "colab": {
          "base_uri": "https://localhost:8080/"
        },
        "id": "2GasuaH-eJWz",
        "outputId": "f5eac47e-f076-4848-915d-dd05ff120efc"
      },
      "execution_count": null,
      "outputs": [
        {
          "output_type": "execute_result",
          "data": {
            "text/plain": [
              "[<li class=\"b-pagination__item\">\n",
              " <a class=\"b-pagination__dot js-pagination\" href=\"/catalog/koshki/korm-koshki/sukhoy/?page=7\" title=\"7\">\n",
              "                             …\n",
              "                         </a>\n",
              " </li>,\n",
              " <li class=\"b-pagination__item\">\n",
              " <a class=\"b-pagination__link js-pagination\" href=\"/catalog/koshki/korm-koshki/sukhoy/?page=9\" title=\"9\">\n",
              "                         9                    </a>\n",
              " </li>,\n",
              " <li class=\"b-pagination__item b-pagination__item--next\">\n",
              " <a class=\"b-pagination__link js-pagination\" href=\"/catalog/koshki/korm-koshki/sukhoy/?page=2\" title=\"2\">\n",
              "                     Вперед\n",
              "                 </a>\n",
              " </li>]"
            ]
          },
          "metadata": {},
          "execution_count": 210
        }
      ]
    },
    {
      "cell_type": "code",
      "source": [
        "pagination[-2].find(\"a\") # кнопка, ведущая на самую последнюю страницу в категории"
      ],
      "metadata": {
        "colab": {
          "base_uri": "https://localhost:8080/"
        },
        "id": "4-WIrp6lhVnH",
        "outputId": "1be33304-eb75-48dd-d78c-2d9ecf82950e"
      },
      "execution_count": null,
      "outputs": [
        {
          "output_type": "execute_result",
          "data": {
            "text/plain": [
              "<a class=\"b-pagination__link js-pagination\" href=\"/catalog/koshki/korm-koshki/sukhoy/?page=9\" title=\"9\">\n",
              "                        9                    </a>"
            ]
          },
          "metadata": {},
          "execution_count": 211
        }
      ]
    },
    {
      "cell_type": "code",
      "source": [
        "last_page = int(pagination[-2].find(\"a\")[\"title\"])\n",
        "last_page # индекс последней страницы из имени кнопки"
      ],
      "metadata": {
        "colab": {
          "base_uri": "https://localhost:8080/"
        },
        "id": "tq2mWsjnheUd",
        "outputId": "0f8a34c2-5e75-4b2e-910c-a7d37db98698"
      },
      "execution_count": null,
      "outputs": [
        {
          "output_type": "execute_result",
          "data": {
            "text/plain": [
              "9"
            ]
          },
          "metadata": {},
          "execution_count": 212
        }
      ]
    },
    {
      "cell_type": "markdown",
      "source": [
        "Теперь получим пул url адресов, с которых необходимо будет соскрапить товары"
      ],
      "metadata": {
        "id": "SdhuYayXijEW"
      }
    },
    {
      "cell_type": "code",
      "source": [
        "pages = []\n",
        "for i in range(1, last_page + 1):\n",
        "  pages.append(f\"https://4lapy.ru/catalog/koshki/korm-koshki/sukhoy/?section_id=3&sort=popular&page={i}\")\n",
        "pages"
      ],
      "metadata": {
        "colab": {
          "base_uri": "https://localhost:8080/"
        },
        "id": "3KRilP4Ph37G",
        "outputId": "6d57a88e-252a-4454-d169-10258b893c75"
      },
      "execution_count": null,
      "outputs": [
        {
          "output_type": "execute_result",
          "data": {
            "text/plain": [
              "['https://4lapy.ru/catalog/koshki/korm-koshki/sukhoy/?section_id=3&sort=popular&page=1',\n",
              " 'https://4lapy.ru/catalog/koshki/korm-koshki/sukhoy/?section_id=3&sort=popular&page=2',\n",
              " 'https://4lapy.ru/catalog/koshki/korm-koshki/sukhoy/?section_id=3&sort=popular&page=3',\n",
              " 'https://4lapy.ru/catalog/koshki/korm-koshki/sukhoy/?section_id=3&sort=popular&page=4',\n",
              " 'https://4lapy.ru/catalog/koshki/korm-koshki/sukhoy/?section_id=3&sort=popular&page=5',\n",
              " 'https://4lapy.ru/catalog/koshki/korm-koshki/sukhoy/?section_id=3&sort=popular&page=6',\n",
              " 'https://4lapy.ru/catalog/koshki/korm-koshki/sukhoy/?section_id=3&sort=popular&page=7',\n",
              " 'https://4lapy.ru/catalog/koshki/korm-koshki/sukhoy/?section_id=3&sort=popular&page=8',\n",
              " 'https://4lapy.ru/catalog/koshki/korm-koshki/sukhoy/?section_id=3&sort=popular&page=9']"
            ]
          },
          "metadata": {},
          "execution_count": 213
        }
      ]
    },
    {
      "cell_type": "markdown",
      "source": [
        "## Попробуем вытянуть данные о товаре со страницы"
      ],
      "metadata": {
        "id": "Lbus9px_k_st"
      }
    },
    {
      "cell_type": "markdown",
      "source": [],
      "metadata": {
        "id": "ShOOMFCfk0wn"
      }
    },
    {
      "cell_type": "markdown",
      "source": [
        "Напишем функции, чтобы соскрапить json, содержащий информацию о бренде, со страницы и перевести в читаемый для Python формат"
      ],
      "metadata": {
        "id": "B9hg9-EHlF5A"
      }
    },
    {
      "cell_type": "code",
      "source": [
        "def extract_json(s):\n",
        "  for idx_beg, char in enumerate(s): # ищем индекс открывающей скобки\n",
        "    if char == \"{\":\n",
        "      break\n",
        "  for idx_end, char in enumerate(s[::-1]): # ищем индекс закрывающей скобки\n",
        "    if char == \"}\":\n",
        "      break\n",
        "  idx_end = len(s) - idx_end\n",
        "  s = s[idx_beg:idx_end]\n",
        "  s = s.replace(\"'\",'\"') # для каста в json заменяем кавычки\n",
        "  return json.loads(s)\n",
        "\n",
        "def get_brand(obj):\n",
        "  product_json = extract_json(obj)\n",
        "  # хардкодинг для получения бренда\n",
        "  return product_json['ecommerce']['click']['products'][0]['brand']"
      ],
      "metadata": {
        "id": "QMWsVMUUOfpx"
      },
      "execution_count": null,
      "outputs": []
    },
    {
      "cell_type": "code",
      "source": [
        "driver.get(\"https://4lapy.ru/catalog/koshki/korm-koshki/sukhoy/?section_id=3&sort=popular&page=9\")\n",
        "driver.execute_script(\"window.scrollTo(0, document.body.scrollHeight);\")\n",
        "time.sleep(3)\n",
        "html = driver.page_source\n",
        "soup = BeautifulSoup(html)"
      ],
      "metadata": {
        "id": "7-p6pteNFKmJ"
      },
      "execution_count": null,
      "outputs": []
    },
    {
      "cell_type": "code",
      "source": [
        "temp = products[0].find(class_=\"b-common-item__image-link js-item-link\")['onclick'] # json, содержащий данные о бренде\n",
        "get_brand(temp) # проверим возвращается ли бренд"
      ],
      "metadata": {
        "colab": {
          "base_uri": "https://localhost:8080/"
        },
        "id": "mVnuVLwilhNP",
        "outputId": "b19caf72-3db2-44c0-f59c-69cfe5490a6a"
      },
      "execution_count": null,
      "outputs": [
        {
          "output_type": "execute_result",
          "data": {
            "text/plain": [
              "'Hills'"
            ],
            "application/vnd.google.colaboratory.intrinsic+json": {
              "type": "string"
            }
          },
          "metadata": {},
          "execution_count": 216
        }
      ]
    },
    {
      "cell_type": "markdown",
      "source": [
        "Найдем остальные необходимые данные товаров"
      ],
      "metadata": {
        "id": "94SRIfPSlmKV"
      }
    },
    {
      "cell_type": "code",
      "source": [
        "products = soup.findAll(\"div\", class_=\"b-common-item b-common-item--catalog-item js-product-item init-product-info\")\n",
        "tup = (\n",
        "  products[0][\"data-productid\"], # id продукта, альтернативно можно найти артикул продукта data-product-articul\n",
        "  products[0].find(class_=\"b-common-item__image js-weight-img\")[\"title\"], # название продукта\n",
        "  products[0].find(class_=\"b-common-item__image-link js-item-link\")[\"href\"], # ссылка на товар\n",
        "  products[0].find(class_=\"b-common-item__prev-price js-sale-origin\").text, # цена без скидки\n",
        "  products[0].find(class_=\"js-price-block\").text) # цена со скидкой\n",
        "for line in tup:\n",
        "  print(line)"
      ],
      "metadata": {
        "colab": {
          "base_uri": "https://localhost:8080/"
        },
        "id": "V0wQGDbRIF6Q",
        "outputId": "9e02943f-86b0-492d-afb0-f0f3abaeba0e"
      },
      "execution_count": null,
      "outputs": [
        {
          "output_type": "stream",
          "name": "stdout",
          "text": [
            "31169\n",
            "Science Plan Perfect Weight Сухой корм для взрослых кошек, склонных к избыточному весу, с курицей, 1,5 кг\n",
            "https://4lapy.ru/catalog/koshki/korm-koshki/dieticheskiy/Korm_dlya_koshek_Hills_idelnyy_ves_s_kuritsey.html?offer=31170\n",
            "\n",
            "3499\n"
          ]
        }
      ]
    },
    {
      "cell_type": "markdown",
      "source": [
        "Выше видно, что товар не по акции имеет пустое поле \"цены без скидки\". Место реальной цены товара вне акции занимает цена товара \"со скидкой\", как бы то странно ни звучало. Чтобы избежать возможных казусов будем следовать следующему плану: проверяем товар на наличие \"цены без скидки\", если она есть и она не пустая, то сохраняем её и \"цену со скидкой\" как разные значения, в ином случае сохраняем \"цену без скидки\", как равную \"цене по скидке\"."
      ],
      "metadata": {
        "id": "zBuaTWj9meDj"
      }
    },
    {
      "cell_type": "markdown",
      "source": [
        "# Скрапинг"
      ],
      "metadata": {
        "id": "b1yo-kiDolCW"
      }
    },
    {
      "cell_type": "markdown",
      "source": [
        "Чтобы проверять товар на наличие, будем проверять существование класса \"b-common-item__text\" и значение текста внутри него:"
      ],
      "metadata": {
        "id": "2WYujwhVnz6t"
      }
    },
    {
      "cell_type": "code",
      "source": [
        "products = soup.findAll(\"div\", class_=\"b-common-item b-common-item--catalog-item js-product-item init-product-info\")\n",
        "temp = products[0].find(class_=\"b-common-item__image-link js-item-link\")['onclick'] # json, содержащий данные о бренде\n",
        "get_brand(temp)\n",
        "for product in products:\n",
        "  if product.find(class_=\"b-common-item__text\"): # проверка на существование\n",
        "      if product.find(class_=\"b-common-item__text\").text == \"Нет в наличии\": # проверка на текст\n",
        "        print(\"product is out of stock\")\n",
        "        continue\n",
        "  temp = product.find(class_=\"b-common-item__image-link js-item-link\")['onclick']\n",
        "  print(get_brand(temp))"
      ],
      "metadata": {
        "colab": {
          "base_uri": "https://localhost:8080/"
        },
        "id": "xmBnKe4Qa35O",
        "outputId": "2c265cf4-3d88-441b-cfdd-ae89745cc497"
      },
      "execution_count": null,
      "outputs": [
        {
          "output_type": "stream",
          "name": "stdout",
          "text": [
            "Hills\n",
            "Whiskas\n",
            "Hills\n",
            "Hills\n",
            "PRO PLAN® Veterinary Diets\n",
            "Hills\n",
            "MEAT GARDEN\n",
            "PRO PLAN®\n",
            "Guabi Natural\n",
            "Hills\n",
            "UnoCat\n",
            "Grandin\n",
            "product is out of stock\n",
            "product is out of stock\n",
            "product is out of stock\n",
            "product is out of stock\n",
            "product is out of stock\n",
            "product is out of stock\n",
            "product is out of stock\n",
            "product is out of stock\n",
            "product is out of stock\n",
            "product is out of stock\n",
            "product is out of stock\n"
          ]
        }
      ]
    },
    {
      "cell_type": "code",
      "source": [
        "data = {\"product_id\": [], \"title\": [], \"link\": [], \"discount_price\": [], \"regular_price\": [], \"brand\": []}\n",
        "\n",
        "for page in pages:\n",
        "  driver.get(page) # делаем запрос и получаем страницу\n",
        "  driver.execute_script(\"window.scrollTo(0, document.body.scrollHeight);\") # скроллим вниз для загрузки всех товаров\n",
        "  time.sleep(5) # ждем прогрузки\n",
        "  html = driver.page_source\n",
        "  soup = BeautifulSoup(html)\n",
        "  # составляем список товаров\n",
        "  products = soup.findAll(\"div\", class_=\"b-common-item b-common-item--catalog-item js-product-item init-product-info\")\n",
        "  for product in products:\n",
        "    # проверка на наличие товара\n",
        "    if product.find(class_=\"b-common-item__text\"):\n",
        "      if product.find(class_=\"b-common-item__text\").text == \"Нет в наличии\":\n",
        "        print(\"Product is out of stock\")\n",
        "        continue\n",
        "    # добавляем id продукта\n",
        "    data[\"product_id\"].append(product[\"data-productid\"])\n",
        "    # добавляем название продукта\n",
        "    data[\"title\"].append(product.find(class_=\"b-common-item__image js-weight-img\")[\"title\"])\n",
        "    # добавляем ссылку на продукт\n",
        "    data[\"link\"].append(product.find(class_=\"b-common-item__image-link js-item-link\")[\"href\"])\n",
        "    # добавляем цену по скидке\n",
        "    discount_price = int(product.find(class_=\"js-price-block\").text)\n",
        "    data[\"discount_price\"].append(discount_price)\n",
        "    # проверяем наличие цены без скидки по вышеописанной логике\n",
        "    regular_price = product.find(class_=\"b-common-item__prev-price js-sale-origin\").text\n",
        "    if regular_price:\n",
        "      regular_price = int(regular_price.split()[0])\n",
        "    else:\n",
        "      regular_price = discount_price\n",
        "    # добавляем цену без скидки\n",
        "    data[\"regular_price\"].append(regular_price)\n",
        "    # добавляем бренд\n",
        "    temp = product.find(class_=\"b-common-item__image-link js-item-link\")['onclick']\n",
        "    data[\"brand\"].append(get_brand(temp))\n",
        "  print(\"Page scraped\")"
      ],
      "metadata": {
        "colab": {
          "base_uri": "https://localhost:8080/"
        },
        "id": "NYtnVlB2LhGw",
        "outputId": "911c77cb-e677-451e-8686-2412133e3349"
      },
      "execution_count": null,
      "outputs": [
        {
          "output_type": "stream",
          "name": "stdout",
          "text": [
            "Page scraped\n",
            "Page scraped\n",
            "Page scraped\n",
            "Page scraped\n",
            "Page scraped\n",
            "Page scraped\n",
            "Page scraped\n",
            "Product is out of stock\n",
            "Page scraped\n",
            "Product is out of stock\n",
            "Product is out of stock\n",
            "Product is out of stock\n",
            "Product is out of stock\n",
            "Product is out of stock\n",
            "Product is out of stock\n",
            "Product is out of stock\n",
            "Product is out of stock\n",
            "Product is out of stock\n",
            "Product is out of stock\n",
            "Product is out of stock\n",
            "Page scraped\n"
          ]
        }
      ]
    },
    {
      "cell_type": "markdown",
      "source": [
        "# Сохраняем датафрейм"
      ],
      "metadata": {
        "id": "cF1dhNpqpA4E"
      }
    },
    {
      "cell_type": "code",
      "source": [
        "df = pd.DataFrame.from_dict(data)\n",
        "df"
      ],
      "metadata": {
        "colab": {
          "base_uri": "https://localhost:8080/",
          "height": 424
        },
        "id": "_FA8v4XdNS3A",
        "outputId": "8548f476-af55-42ff-f170-bae304d43fca"
      },
      "execution_count": null,
      "outputs": [
        {
          "output_type": "execute_result",
          "data": {
            "text/plain": [
              "    product_id                                              title  \\\n",
              "0       168899  Сухой корм для стерилизованных кошек, с индейк...   \n",
              "1       168902  Сухой корм для стерилизованных кошек, с ягненк...   \n",
              "2       151160  Adult Sterilized Classic Сухой корм для стерил...   \n",
              "3       119899  N&D PRIME сухой корм для стерилизованных кошек...   \n",
              "4       151172  Adult Sterilized Корм сухой беззерновой для ст...   \n",
              "..         ...                                                ...   \n",
              "294     108461  Sterilised Сухой корм для взрослых стерилизова...   \n",
              "295     159391  Natural Cat Сухой корм для взрослых кошек с цы...   \n",
              "296      80053  Science Plan Сухой корм для взрослых кошек для...   \n",
              "297     135823  Корм сухой для взрослых привередливых кошек с ...   \n",
              "298      71662  Kitten Корм сухой для котят в возрасте до 12 м...   \n",
              "\n",
              "                                                  link  discount_price  \\\n",
              "0    https://4lapy.ru/catalog/koshki/korm-koshki/ko...            1199   \n",
              "1    https://4lapy.ru/catalog/koshki/korm-koshki/su...            1199   \n",
              "2    https://4lapy.ru/catalog/koshki/korm-koshki/su...            2629   \n",
              "3    https://4lapy.ru/catalog/koshki/korm-koshki/kh...            3683   \n",
              "4    https://4lapy.ru/catalog/koshki/korm-koshki/su...            3289   \n",
              "..                                                 ...             ...   \n",
              "294  https://4lapy.ru/catalog/koshki/korm-koshki/su...             629   \n",
              "295  https://4lapy.ru/catalog/koshki/korm-koshki/su...            1975   \n",
              "296  https://4lapy.ru/catalog/koshki/korm-koshki/su...            4869   \n",
              "297  https://4lapy.ru/catalog/koshki/korm-koshki/su...             279   \n",
              "298  https://4lapy.ru/catalog/koshki/korm-koshki/su...             599   \n",
              "\n",
              "     regular_price          brand  \n",
              "0             1199       Wellkiss  \n",
              "1             1199       Wellkiss  \n",
              "2             2629          Ownat  \n",
              "3             3683        Farmina  \n",
              "4             3289          Ownat  \n",
              "..             ...            ...  \n",
              "294            629      PRO PLAN®  \n",
              "295           1975  Guabi Natural  \n",
              "296           4869          Hills  \n",
              "297            279         UnoCat  \n",
              "298            599        Grandin  \n",
              "\n",
              "[299 rows x 6 columns]"
            ],
            "text/html": [
              "\n",
              "  <div id=\"df-b14fbcfa-d3b9-4ce1-bc31-c76728b22059\" class=\"colab-df-container\">\n",
              "    <div>\n",
              "<style scoped>\n",
              "    .dataframe tbody tr th:only-of-type {\n",
              "        vertical-align: middle;\n",
              "    }\n",
              "\n",
              "    .dataframe tbody tr th {\n",
              "        vertical-align: top;\n",
              "    }\n",
              "\n",
              "    .dataframe thead th {\n",
              "        text-align: right;\n",
              "    }\n",
              "</style>\n",
              "<table border=\"1\" class=\"dataframe\">\n",
              "  <thead>\n",
              "    <tr style=\"text-align: right;\">\n",
              "      <th></th>\n",
              "      <th>product_id</th>\n",
              "      <th>title</th>\n",
              "      <th>link</th>\n",
              "      <th>discount_price</th>\n",
              "      <th>regular_price</th>\n",
              "      <th>brand</th>\n",
              "    </tr>\n",
              "  </thead>\n",
              "  <tbody>\n",
              "    <tr>\n",
              "      <th>0</th>\n",
              "      <td>168899</td>\n",
              "      <td>Сухой корм для стерилизованных кошек, с индейк...</td>\n",
              "      <td>https://4lapy.ru/catalog/koshki/korm-koshki/ko...</td>\n",
              "      <td>1199</td>\n",
              "      <td>1199</td>\n",
              "      <td>Wellkiss</td>\n",
              "    </tr>\n",
              "    <tr>\n",
              "      <th>1</th>\n",
              "      <td>168902</td>\n",
              "      <td>Сухой корм для стерилизованных кошек, с ягненк...</td>\n",
              "      <td>https://4lapy.ru/catalog/koshki/korm-koshki/su...</td>\n",
              "      <td>1199</td>\n",
              "      <td>1199</td>\n",
              "      <td>Wellkiss</td>\n",
              "    </tr>\n",
              "    <tr>\n",
              "      <th>2</th>\n",
              "      <td>151160</td>\n",
              "      <td>Adult Sterilized Classic Сухой корм для стерил...</td>\n",
              "      <td>https://4lapy.ru/catalog/koshki/korm-koshki/su...</td>\n",
              "      <td>2629</td>\n",
              "      <td>2629</td>\n",
              "      <td>Ownat</td>\n",
              "    </tr>\n",
              "    <tr>\n",
              "      <th>3</th>\n",
              "      <td>119899</td>\n",
              "      <td>N&amp;D PRIME сухой корм для стерилизованных кошек...</td>\n",
              "      <td>https://4lapy.ru/catalog/koshki/korm-koshki/kh...</td>\n",
              "      <td>3683</td>\n",
              "      <td>3683</td>\n",
              "      <td>Farmina</td>\n",
              "    </tr>\n",
              "    <tr>\n",
              "      <th>4</th>\n",
              "      <td>151172</td>\n",
              "      <td>Adult Sterilized Корм сухой беззерновой для ст...</td>\n",
              "      <td>https://4lapy.ru/catalog/koshki/korm-koshki/su...</td>\n",
              "      <td>3289</td>\n",
              "      <td>3289</td>\n",
              "      <td>Ownat</td>\n",
              "    </tr>\n",
              "    <tr>\n",
              "      <th>...</th>\n",
              "      <td>...</td>\n",
              "      <td>...</td>\n",
              "      <td>...</td>\n",
              "      <td>...</td>\n",
              "      <td>...</td>\n",
              "      <td>...</td>\n",
              "    </tr>\n",
              "    <tr>\n",
              "      <th>294</th>\n",
              "      <td>108461</td>\n",
              "      <td>Sterilised Сухой корм для взрослых стерилизова...</td>\n",
              "      <td>https://4lapy.ru/catalog/koshki/korm-koshki/su...</td>\n",
              "      <td>629</td>\n",
              "      <td>629</td>\n",
              "      <td>PRO PLAN®</td>\n",
              "    </tr>\n",
              "    <tr>\n",
              "      <th>295</th>\n",
              "      <td>159391</td>\n",
              "      <td>Natural Cat Сухой корм для взрослых кошек с цы...</td>\n",
              "      <td>https://4lapy.ru/catalog/koshki/korm-koshki/su...</td>\n",
              "      <td>1975</td>\n",
              "      <td>1975</td>\n",
              "      <td>Guabi Natural</td>\n",
              "    </tr>\n",
              "    <tr>\n",
              "      <th>296</th>\n",
              "      <td>80053</td>\n",
              "      <td>Science Plan Сухой корм для взрослых кошек для...</td>\n",
              "      <td>https://4lapy.ru/catalog/koshki/korm-koshki/su...</td>\n",
              "      <td>4869</td>\n",
              "      <td>4869</td>\n",
              "      <td>Hills</td>\n",
              "    </tr>\n",
              "    <tr>\n",
              "      <th>297</th>\n",
              "      <td>135823</td>\n",
              "      <td>Корм сухой для взрослых привередливых кошек с ...</td>\n",
              "      <td>https://4lapy.ru/catalog/koshki/korm-koshki/su...</td>\n",
              "      <td>279</td>\n",
              "      <td>279</td>\n",
              "      <td>UnoCat</td>\n",
              "    </tr>\n",
              "    <tr>\n",
              "      <th>298</th>\n",
              "      <td>71662</td>\n",
              "      <td>Kitten Корм сухой для котят в возрасте до 12 м...</td>\n",
              "      <td>https://4lapy.ru/catalog/koshki/korm-koshki/su...</td>\n",
              "      <td>599</td>\n",
              "      <td>599</td>\n",
              "      <td>Grandin</td>\n",
              "    </tr>\n",
              "  </tbody>\n",
              "</table>\n",
              "<p>299 rows × 6 columns</p>\n",
              "</div>\n",
              "    <div class=\"colab-df-buttons\">\n",
              "\n",
              "  <div class=\"colab-df-container\">\n",
              "    <button class=\"colab-df-convert\" onclick=\"convertToInteractive('df-b14fbcfa-d3b9-4ce1-bc31-c76728b22059')\"\n",
              "            title=\"Convert this dataframe to an interactive table.\"\n",
              "            style=\"display:none;\">\n",
              "\n",
              "  <svg xmlns=\"http://www.w3.org/2000/svg\" height=\"24px\" viewBox=\"0 -960 960 960\">\n",
              "    <path d=\"M120-120v-720h720v720H120Zm60-500h600v-160H180v160Zm220 220h160v-160H400v160Zm0 220h160v-160H400v160ZM180-400h160v-160H180v160Zm440 0h160v-160H620v160ZM180-180h160v-160H180v160Zm440 0h160v-160H620v160Z\"/>\n",
              "  </svg>\n",
              "    </button>\n",
              "\n",
              "  <style>\n",
              "    .colab-df-container {\n",
              "      display:flex;\n",
              "      gap: 12px;\n",
              "    }\n",
              "\n",
              "    .colab-df-convert {\n",
              "      background-color: #E8F0FE;\n",
              "      border: none;\n",
              "      border-radius: 50%;\n",
              "      cursor: pointer;\n",
              "      display: none;\n",
              "      fill: #1967D2;\n",
              "      height: 32px;\n",
              "      padding: 0 0 0 0;\n",
              "      width: 32px;\n",
              "    }\n",
              "\n",
              "    .colab-df-convert:hover {\n",
              "      background-color: #E2EBFA;\n",
              "      box-shadow: 0px 1px 2px rgba(60, 64, 67, 0.3), 0px 1px 3px 1px rgba(60, 64, 67, 0.15);\n",
              "      fill: #174EA6;\n",
              "    }\n",
              "\n",
              "    .colab-df-buttons div {\n",
              "      margin-bottom: 4px;\n",
              "    }\n",
              "\n",
              "    [theme=dark] .colab-df-convert {\n",
              "      background-color: #3B4455;\n",
              "      fill: #D2E3FC;\n",
              "    }\n",
              "\n",
              "    [theme=dark] .colab-df-convert:hover {\n",
              "      background-color: #434B5C;\n",
              "      box-shadow: 0px 1px 3px 1px rgba(0, 0, 0, 0.15);\n",
              "      filter: drop-shadow(0px 1px 2px rgba(0, 0, 0, 0.3));\n",
              "      fill: #FFFFFF;\n",
              "    }\n",
              "  </style>\n",
              "\n",
              "    <script>\n",
              "      const buttonEl =\n",
              "        document.querySelector('#df-b14fbcfa-d3b9-4ce1-bc31-c76728b22059 button.colab-df-convert');\n",
              "      buttonEl.style.display =\n",
              "        google.colab.kernel.accessAllowed ? 'block' : 'none';\n",
              "\n",
              "      async function convertToInteractive(key) {\n",
              "        const element = document.querySelector('#df-b14fbcfa-d3b9-4ce1-bc31-c76728b22059');\n",
              "        const dataTable =\n",
              "          await google.colab.kernel.invokeFunction('convertToInteractive',\n",
              "                                                    [key], {});\n",
              "        if (!dataTable) return;\n",
              "\n",
              "        const docLinkHtml = 'Like what you see? Visit the ' +\n",
              "          '<a target=\"_blank\" href=https://colab.research.google.com/notebooks/data_table.ipynb>data table notebook</a>'\n",
              "          + ' to learn more about interactive tables.';\n",
              "        element.innerHTML = '';\n",
              "        dataTable['output_type'] = 'display_data';\n",
              "        await google.colab.output.renderOutput(dataTable, element);\n",
              "        const docLink = document.createElement('div');\n",
              "        docLink.innerHTML = docLinkHtml;\n",
              "        element.appendChild(docLink);\n",
              "      }\n",
              "    </script>\n",
              "  </div>\n",
              "\n",
              "\n",
              "<div id=\"df-f3bb2261-fab0-4de3-94aa-75c8d9d0b344\">\n",
              "  <button class=\"colab-df-quickchart\" onclick=\"quickchart('df-f3bb2261-fab0-4de3-94aa-75c8d9d0b344')\"\n",
              "            title=\"Suggest charts\"\n",
              "            style=\"display:none;\">\n",
              "\n",
              "<svg xmlns=\"http://www.w3.org/2000/svg\" height=\"24px\"viewBox=\"0 0 24 24\"\n",
              "     width=\"24px\">\n",
              "    <g>\n",
              "        <path d=\"M19 3H5c-1.1 0-2 .9-2 2v14c0 1.1.9 2 2 2h14c1.1 0 2-.9 2-2V5c0-1.1-.9-2-2-2zM9 17H7v-7h2v7zm4 0h-2V7h2v10zm4 0h-2v-4h2v4z\"/>\n",
              "    </g>\n",
              "</svg>\n",
              "  </button>\n",
              "\n",
              "<style>\n",
              "  .colab-df-quickchart {\n",
              "      --bg-color: #E8F0FE;\n",
              "      --fill-color: #1967D2;\n",
              "      --hover-bg-color: #E2EBFA;\n",
              "      --hover-fill-color: #174EA6;\n",
              "      --disabled-fill-color: #AAA;\n",
              "      --disabled-bg-color: #DDD;\n",
              "  }\n",
              "\n",
              "  [theme=dark] .colab-df-quickchart {\n",
              "      --bg-color: #3B4455;\n",
              "      --fill-color: #D2E3FC;\n",
              "      --hover-bg-color: #434B5C;\n",
              "      --hover-fill-color: #FFFFFF;\n",
              "      --disabled-bg-color: #3B4455;\n",
              "      --disabled-fill-color: #666;\n",
              "  }\n",
              "\n",
              "  .colab-df-quickchart {\n",
              "    background-color: var(--bg-color);\n",
              "    border: none;\n",
              "    border-radius: 50%;\n",
              "    cursor: pointer;\n",
              "    display: none;\n",
              "    fill: var(--fill-color);\n",
              "    height: 32px;\n",
              "    padding: 0;\n",
              "    width: 32px;\n",
              "  }\n",
              "\n",
              "  .colab-df-quickchart:hover {\n",
              "    background-color: var(--hover-bg-color);\n",
              "    box-shadow: 0 1px 2px rgba(60, 64, 67, 0.3), 0 1px 3px 1px rgba(60, 64, 67, 0.15);\n",
              "    fill: var(--button-hover-fill-color);\n",
              "  }\n",
              "\n",
              "  .colab-df-quickchart-complete:disabled,\n",
              "  .colab-df-quickchart-complete:disabled:hover {\n",
              "    background-color: var(--disabled-bg-color);\n",
              "    fill: var(--disabled-fill-color);\n",
              "    box-shadow: none;\n",
              "  }\n",
              "\n",
              "  .colab-df-spinner {\n",
              "    border: 2px solid var(--fill-color);\n",
              "    border-color: transparent;\n",
              "    border-bottom-color: var(--fill-color);\n",
              "    animation:\n",
              "      spin 1s steps(1) infinite;\n",
              "  }\n",
              "\n",
              "  @keyframes spin {\n",
              "    0% {\n",
              "      border-color: transparent;\n",
              "      border-bottom-color: var(--fill-color);\n",
              "      border-left-color: var(--fill-color);\n",
              "    }\n",
              "    20% {\n",
              "      border-color: transparent;\n",
              "      border-left-color: var(--fill-color);\n",
              "      border-top-color: var(--fill-color);\n",
              "    }\n",
              "    30% {\n",
              "      border-color: transparent;\n",
              "      border-left-color: var(--fill-color);\n",
              "      border-top-color: var(--fill-color);\n",
              "      border-right-color: var(--fill-color);\n",
              "    }\n",
              "    40% {\n",
              "      border-color: transparent;\n",
              "      border-right-color: var(--fill-color);\n",
              "      border-top-color: var(--fill-color);\n",
              "    }\n",
              "    60% {\n",
              "      border-color: transparent;\n",
              "      border-right-color: var(--fill-color);\n",
              "    }\n",
              "    80% {\n",
              "      border-color: transparent;\n",
              "      border-right-color: var(--fill-color);\n",
              "      border-bottom-color: var(--fill-color);\n",
              "    }\n",
              "    90% {\n",
              "      border-color: transparent;\n",
              "      border-bottom-color: var(--fill-color);\n",
              "    }\n",
              "  }\n",
              "</style>\n",
              "\n",
              "  <script>\n",
              "    async function quickchart(key) {\n",
              "      const quickchartButtonEl =\n",
              "        document.querySelector('#' + key + ' button');\n",
              "      quickchartButtonEl.disabled = true;  // To prevent multiple clicks.\n",
              "      quickchartButtonEl.classList.add('colab-df-spinner');\n",
              "      try {\n",
              "        const charts = await google.colab.kernel.invokeFunction(\n",
              "            'suggestCharts', [key], {});\n",
              "      } catch (error) {\n",
              "        console.error('Error during call to suggestCharts:', error);\n",
              "      }\n",
              "      quickchartButtonEl.classList.remove('colab-df-spinner');\n",
              "      quickchartButtonEl.classList.add('colab-df-quickchart-complete');\n",
              "    }\n",
              "    (() => {\n",
              "      let quickchartButtonEl =\n",
              "        document.querySelector('#df-f3bb2261-fab0-4de3-94aa-75c8d9d0b344 button');\n",
              "      quickchartButtonEl.style.display =\n",
              "        google.colab.kernel.accessAllowed ? 'block' : 'none';\n",
              "    })();\n",
              "  </script>\n",
              "</div>\n",
              "    </div>\n",
              "  </div>\n"
            ],
            "application/vnd.google.colaboratory.intrinsic+json": {
              "type": "dataframe",
              "variable_name": "df",
              "summary": "{\n  \"name\": \"df\",\n  \"rows\": 299,\n  \"fields\": [\n    {\n      \"column\": \"product_id\",\n      \"properties\": {\n        \"dtype\": \"string\",\n        \"num_unique_values\": 299,\n        \"samples\": [\n          \"128780\",\n          \"134558\",\n          \"166400\"\n        ],\n        \"semantic_type\": \"\",\n        \"description\": \"\"\n      }\n    },\n    {\n      \"column\": \"title\",\n      \"properties\": {\n        \"dtype\": \"string\",\n        \"num_unique_values\": 299,\n        \"samples\": [\n          \"\\u041a\\u043e\\u0440\\u043c \\u0441\\u0443\\u0445\\u043e\\u0439 \\u0434\\u043b\\u044f \\u043a\\u043e\\u0448\\u0435\\u043a \\u043f\\u043e\\u0434\\u0443\\u0448\\u0435\\u0447\\u043a\\u0438 \\u043f\\u0430\\u0448\\u0442\\u0435\\u0442 \\u0433\\u043e\\u0432\\u044f\\u0434\\u0438\\u043d\\u0430, 350 \\u0433\",\n          \"\\u041c\\u044f\\u0441\\u043d\\u043e\\u0435 \\u043e\\u0431\\u044a\\u0435\\u0434\\u0435\\u043d\\u0438\\u0435 \\u0441\\u0443\\u0445\\u043e\\u0439 \\u043a\\u043e\\u0440\\u043c \\u0434\\u043b\\u044f \\u0432\\u0437\\u0440\\u043e\\u0441\\u043b\\u044b\\u0445 \\u043a\\u043e\\u0448\\u0435\\u043a \\u0441 \\u0433\\u043e\\u0432\\u044f\\u0434\\u0438\\u043d\\u043e\\u0439, 600 \\u0433\",\n          \"Monopronein Superpremium \\u0421\\u0443\\u0445\\u043e\\u0439 \\u043a\\u043e\\u0440\\u043c \\u0434\\u043b\\u044f \\u0432\\u0437\\u0440\\u043e\\u0441\\u043b\\u044b\\u0445 \\u043a\\u043e\\u0448\\u0435\\u043a, \\u0441 \\u0438\\u043d\\u0434\\u0435\\u0439\\u043a\\u043e\\u0439, 400 \\u0433\\u0440.\"\n        ],\n        \"semantic_type\": \"\",\n        \"description\": \"\"\n      }\n    },\n    {\n      \"column\": \"link\",\n      \"properties\": {\n        \"dtype\": \"string\",\n        \"num_unique_values\": 299,\n        \"samples\": [\n          \"https://4lapy.ru/catalog/koshki/korm-koshki/sukhoy/korm-suhoy-dlya-koshek-podushechki-pashtet-govyadina.html?offer=128781\",\n          \"https://4lapy.ru/catalog/koshki/korm-koshki/sukhoy/felix-600g-dlya-koshek-myasnoe-obedenie-govyadina.html?offer=134559\",\n          \"https://4lapy.ru/catalog/koshki/korm-koshki/kholistik/korm-suhoy-dlya-koshek-s-indeykoy-400g.html?offer=166401\"\n        ],\n        \"semantic_type\": \"\",\n        \"description\": \"\"\n      }\n    },\n    {\n      \"column\": \"discount_price\",\n      \"properties\": {\n        \"dtype\": \"number\",\n        \"std\": 1899,\n        \"min\": 107,\n        \"max\": 10869,\n        \"num_unique_values\": 190,\n        \"samples\": [\n          515,\n          5435,\n          1079\n        ],\n        \"semantic_type\": \"\",\n        \"description\": \"\"\n      }\n    },\n    {\n      \"column\": \"regular_price\",\n      \"properties\": {\n        \"dtype\": \"number\",\n        \"std\": 1988,\n        \"min\": 107,\n        \"max\": 11585,\n        \"num_unique_values\": 184,\n        \"samples\": [\n          3475,\n          3775,\n          519\n        ],\n        \"semantic_type\": \"\",\n        \"description\": \"\"\n      }\n    },\n    {\n      \"column\": \"brand\",\n      \"properties\": {\n        \"dtype\": \"category\",\n        \"num_unique_values\": 31,\n        \"samples\": [\n          \"Perfect Fit\",\n          \"DELICANA\",\n          \"KLICKER\"\n        ],\n        \"semantic_type\": \"\",\n        \"description\": \"\"\n      }\n    }\n  ]\n}"
            }
          },
          "metadata": {},
          "execution_count": 220
        }
      ]
    },
    {
      "cell_type": "code",
      "source": [
        "df.to_csv(\"products.csv\")"
      ],
      "metadata": {
        "id": "wZh7RDWSV9bD"
      },
      "execution_count": null,
      "outputs": []
    }
  ]
}